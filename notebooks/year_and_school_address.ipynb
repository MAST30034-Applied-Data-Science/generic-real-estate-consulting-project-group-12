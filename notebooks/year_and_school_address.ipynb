{
 "cells": [
  {
   "cell_type": "code",
   "execution_count": 2,
   "metadata": {},
   "outputs": [],
   "source": [
    "import requests\n",
    "import json\n",
    "from bs4 import BeautifulSoup  \n",
    "def http_get(url_str):\n",
    "    h1 = 'user-agent: Mozilla/5.0 (Linux; Android 6.0; Nexus 5 Build/MRA58N) AppleWebKit/537.36 (KHTML, like Gecko) Chrome/105.0.0.0 Mobile Safari/537.36'\n",
    "    h1_arr = h1.split(':')\n",
    "    response = requests.get(url= url_str,headers={h1_arr[0].strip():h1_arr[1].strip()  } )\n",
    "    print(response.status_code)\n",
    "\n",
    "    return response.text\n"
   ]
  },
  {
   "cell_type": "code",
   "execution_count": 3,
   "metadata": {
    "scrolled": false
   },
   "outputs": [
    {
     "name": "stdout",
     "output_type": "stream",
     "text": [
      "200\n"
     ]
    }
   ],
   "source": [
    "url = 'https://www.schoolbuildings.vic.gov.au/100-new-schools'\n",
    "html_txt = http_get(url)"
   ]
  },
  {
   "cell_type": "code",
   "execution_count": 4,
   "metadata": {},
   "outputs": [],
   "source": [
    "def getAddress(sub_url):\n",
    "    \n",
    "    html_str=http_get(sub_url)\n",
    "    \n",
    "    xpath = \"/html/body/div/div/div/div[2]/main/section/div/div/div[1]/div/div[1]/div[2]/div/div/text()\"\n",
    "    from lxml import etree\n",
    "    html = etree.HTML(html_str) \n",
    "    return html.xpath(xpath)[0]   \n"
   ]
  },
  {
   "cell_type": "code",
   "execution_count": null,
   "metadata": {},
   "outputs": [],
   "source": [
    "\n",
    "bs = BeautifulSoup(html_txt,'lxml')\n",
    "ul = bs.select(\".rpl-accordion__list\")[0]\n",
    "arr2 = []\n",
    "for li in ul.select('li'):\n",
    "    span_arr = li.select('h3  button  span')\n",
    "    if len(span_arr)>0:  \n",
    "        for a in li.select('div a'):\n",
    "            print([span_arr[0].string, a[\"data-print-url\"],getAddress(a[\"data-print-url\"]) ])\n",
    "            arr2.append([span_arr[0].string, a[\"data-print-url\"],getAddress(a[\"data-print-url\"]) ])\n",
    "    "
   ]
  },
  {
   "cell_type": "code",
   "execution_count": 68,
   "metadata": {},
   "outputs": [],
   "source": [
    "with open('year_school_address.txt','w') as f:\n",
    "    json.dump(arr2,f)"
   ]
  }
 ],
 "metadata": {
  "kernelspec": {
   "display_name": "Python 3.9.7 ('base')",
   "language": "python",
   "name": "python3"
  },
  "language_info": {
   "codemirror_mode": {
    "name": "ipython",
    "version": 3
   },
   "file_extension": ".py",
   "mimetype": "text/x-python",
   "name": "python",
   "nbconvert_exporter": "python",
   "pygments_lexer": "ipython3",
   "version": "3.9.7"
  },
  "vscode": {
   "interpreter": {
    "hash": "d1e7dfa373d7903744c503ef55fd7294a1d9938d2fabb734498f49571dc8aad8"
   }
  }
 },
 "nbformat": 4,
 "nbformat_minor": 4
}
