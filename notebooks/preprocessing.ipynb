{
 "cells": [
  {
   "cell_type": "code",
   "execution_count": 11,
   "metadata": {},
   "outputs": [],
   "source": [
    "import pandas as pd\n"
   ]
  },
  {
   "cell_type": "code",
   "execution_count": 35,
   "metadata": {},
   "outputs": [
    {
     "data": {
      "text/html": [
       "<div>\n",
       "<style scoped>\n",
       "    .dataframe tbody tr th:only-of-type {\n",
       "        vertical-align: middle;\n",
       "    }\n",
       "\n",
       "    .dataframe tbody tr th {\n",
       "        vertical-align: top;\n",
       "    }\n",
       "\n",
       "    .dataframe thead th {\n",
       "        text-align: right;\n",
       "    }\n",
       "</style>\n",
       "<table border=\"1\" class=\"dataframe\">\n",
       "  <thead>\n",
       "    <tr style=\"text-align: right;\">\n",
       "      <th></th>\n",
       "      <th>Unnamed: 0</th>\n",
       "      <th>name</th>\n",
       "      <th>cost_text</th>\n",
       "      <th>coordinates</th>\n",
       "      <th>bedroom</th>\n",
       "      <th>bathroom</th>\n",
       "      <th>parking</th>\n",
       "    </tr>\n",
       "  </thead>\n",
       "  <tbody>\n",
       "    <tr>\n",
       "      <th>0</th>\n",
       "      <td>0</td>\n",
       "      <td>Upstairs 2C Staley Street Brunswick VIC 3056</td>\n",
       "      <td>$35,000 Annually</td>\n",
       "      <td>[-37.7655919, 144.9633048]</td>\n",
       "      <td>0</td>\n",
       "      <td>0</td>\n",
       "      <td>2</td>\n",
       "    </tr>\n",
       "    <tr>\n",
       "      <th>1</th>\n",
       "      <td>1</td>\n",
       "      <td>3502/14-16 The Esplanade St Kilda VIC 3182</td>\n",
       "      <td>$6,000</td>\n",
       "      <td>[-37.8650177, 144.9746821]</td>\n",
       "      <td>3</td>\n",
       "      <td>3</td>\n",
       "      <td>3</td>\n",
       "    </tr>\n",
       "    <tr>\n",
       "      <th>2</th>\n",
       "      <td>2</td>\n",
       "      <td>9 Lansdowne Street Blairgowrie VIC 3942</td>\n",
       "      <td>$5,000 per week</td>\n",
       "      <td>[-38.372703, 144.7856897]</td>\n",
       "      <td>3</td>\n",
       "      <td>2</td>\n",
       "      <td>3</td>\n",
       "    </tr>\n",
       "    <tr>\n",
       "      <th>3</th>\n",
       "      <td>3</td>\n",
       "      <td>52 Black St Brighton VIC 3186</td>\n",
       "      <td>From $5500 per week</td>\n",
       "      <td>[-37.9159452, 144.9989003]</td>\n",
       "      <td>3</td>\n",
       "      <td>4</td>\n",
       "      <td>3</td>\n",
       "    </tr>\n",
       "    <tr>\n",
       "      <th>4</th>\n",
       "      <td>4</td>\n",
       "      <td>4203/35 Spring Street Melbourne VIC 3000</td>\n",
       "      <td>$4500 Per Week</td>\n",
       "      <td>[-37.8141725, 144.9740049]</td>\n",
       "      <td>3</td>\n",
       "      <td>2</td>\n",
       "      <td>4</td>\n",
       "    </tr>\n",
       "    <tr>\n",
       "      <th>...</th>\n",
       "      <td>...</td>\n",
       "      <td>...</td>\n",
       "      <td>...</td>\n",
       "      <td>...</td>\n",
       "      <td>...</td>\n",
       "      <td>...</td>\n",
       "      <td>...</td>\n",
       "    </tr>\n",
       "    <tr>\n",
       "      <th>790</th>\n",
       "      <td>790</td>\n",
       "      <td>201/20 Blessington Street St Kilda VIC 3182</td>\n",
       "      <td>$850 pw</td>\n",
       "      <td>[-37.8704366, 144.9800936]</td>\n",
       "      <td>3</td>\n",
       "      <td>2</td>\n",
       "      <td>1</td>\n",
       "    </tr>\n",
       "    <tr>\n",
       "      <th>791</th>\n",
       "      <td>791</td>\n",
       "      <td>202/20 Blessington Street St Kilda VIC 3182</td>\n",
       "      <td>$850 pw</td>\n",
       "      <td>[-37.8704366, 144.9800936]</td>\n",
       "      <td>3</td>\n",
       "      <td>2</td>\n",
       "      <td>1</td>\n",
       "    </tr>\n",
       "    <tr>\n",
       "      <th>792</th>\n",
       "      <td>792</td>\n",
       "      <td>85-86 Bluff Rd St Leonards VIC 3223</td>\n",
       "      <td>$850 weekly</td>\n",
       "      <td>[-38.1858684, 144.7119873]</td>\n",
       "      <td>4</td>\n",
       "      <td>2</td>\n",
       "      <td>6</td>\n",
       "    </tr>\n",
       "    <tr>\n",
       "      <th>793</th>\n",
       "      <td>793</td>\n",
       "      <td>14/70 Canterbury Road Toorak VIC 3142</td>\n",
       "      <td>$850 per week</td>\n",
       "      <td>[-37.8424594, 145.0108016]</td>\n",
       "      <td>1</td>\n",
       "      <td>1</td>\n",
       "      <td>0</td>\n",
       "    </tr>\n",
       "    <tr>\n",
       "      <th>794</th>\n",
       "      <td>794</td>\n",
       "      <td>8 Balmerino Avenue Toorak VIC 3142</td>\n",
       "      <td>$850.00 Per Week</td>\n",
       "      <td>[-37.836467, 145.008938]</td>\n",
       "      <td>4</td>\n",
       "      <td>2</td>\n",
       "      <td>1</td>\n",
       "    </tr>\n",
       "  </tbody>\n",
       "</table>\n",
       "<p>795 rows × 7 columns</p>\n",
       "</div>"
      ],
      "text/plain": [
       "     Unnamed: 0                                          name  \\\n",
       "0             0  Upstairs 2C Staley Street Brunswick VIC 3056   \n",
       "1             1    3502/14-16 The Esplanade St Kilda VIC 3182   \n",
       "2             2       9 Lansdowne Street Blairgowrie VIC 3942   \n",
       "3             3                 52 Black St Brighton VIC 3186   \n",
       "4             4      4203/35 Spring Street Melbourne VIC 3000   \n",
       "..          ...                                           ...   \n",
       "790         790   201/20 Blessington Street St Kilda VIC 3182   \n",
       "791         791   202/20 Blessington Street St Kilda VIC 3182   \n",
       "792         792           85-86 Bluff Rd St Leonards VIC 3223   \n",
       "793         793         14/70 Canterbury Road Toorak VIC 3142   \n",
       "794         794            8 Balmerino Avenue Toorak VIC 3142   \n",
       "\n",
       "               cost_text                 coordinates  bedroom  bathroom  \\\n",
       "0       $35,000 Annually  [-37.7655919, 144.9633048]        0         0   \n",
       "1                 $6,000  [-37.8650177, 144.9746821]        3         3   \n",
       "2        $5,000 per week   [-38.372703, 144.7856897]        3         2   \n",
       "3    From $5500 per week  [-37.9159452, 144.9989003]        3         4   \n",
       "4         $4500 Per Week  [-37.8141725, 144.9740049]        3         2   \n",
       "..                   ...                         ...      ...       ...   \n",
       "790              $850 pw  [-37.8704366, 144.9800936]        3         2   \n",
       "791              $850 pw  [-37.8704366, 144.9800936]        3         2   \n",
       "792          $850 weekly  [-38.1858684, 144.7119873]        4         2   \n",
       "793        $850 per week  [-37.8424594, 145.0108016]        1         1   \n",
       "794     $850.00 Per Week    [-37.836467, 145.008938]        4         2   \n",
       "\n",
       "     parking  \n",
       "0          2  \n",
       "1          3  \n",
       "2          3  \n",
       "3          3  \n",
       "4          4  \n",
       "..       ...  \n",
       "790        1  \n",
       "791        1  \n",
       "792        6  \n",
       "793        0  \n",
       "794        1  \n",
       "\n",
       "[795 rows x 7 columns]"
      ]
     },
     "execution_count": 35,
     "metadata": {},
     "output_type": "execute_result"
    }
   ],
   "source": [
    "df = pd.read_csv('../data/curated/initial.csv')\n",
    "df"
   ]
  },
  {
   "cell_type": "code",
   "execution_count": 40,
   "metadata": {},
   "outputs": [],
   "source": [
    "df = df.iloc[:,1:]"
   ]
  },
  {
   "cell_type": "code",
   "execution_count": 41,
   "metadata": {},
   "outputs": [
    {
     "name": "stderr",
     "output_type": "stream",
     "text": [
      "/tmp/ipykernel_6111/1273942265.py:2: FutureWarning: The default value of regex will change from True to False in a future version. In addition, single character regular expressions will *not* be treated as literal strings when regex=True.\n",
      "  df.loc[:,'cost_text'] = df['cost_text'].str.replace('$','')\n"
     ]
    },
    {
     "data": {
      "text/plain": [
       "0      35000 annually\n",
       "1                6000\n",
       "2                5000\n",
       "3                5500\n",
       "4                4500\n",
       "            ...      \n",
       "790               850\n",
       "791               850\n",
       "792               850\n",
       "793               850\n",
       "794            850.00\n",
       "Name: cost_text, Length: 795, dtype: object"
      ]
     },
     "execution_count": 41,
     "metadata": {},
     "output_type": "execute_result"
    }
   ],
   "source": [
    "df.loc[:,'cost_text'] = df['cost_text'].str.lower()\n",
    "df.loc[:,'cost_text'] = df['cost_text'].str.replace('$','')\n",
    "df.loc[:,'cost_text'] = df['cost_text'].str.replace(' per week','')\n",
    "df.loc[:,'cost_text'] = df['cost_text'].str.replace(' weekly','')\n",
    "df.loc[:,'cost_text'] = df['cost_text'].str.replace(' pw','')\n",
    "df.loc[:,'cost_text'] = df['cost_text'].str.replace(',','')\n",
    "df.loc[:,'cost_text'] = df['cost_text'].str.replace('from ','')\n",
    "df['cost_text']"
   ]
  },
  {
   "cell_type": "code",
   "execution_count": 43,
   "metadata": {},
   "outputs": [
    {
     "data": {
      "text/plain": [
       "0                                35000 annually\n",
       "1                                          6000\n",
       "2                                          5000\n",
       "3                                          5500\n",
       "4                                          4500\n",
       "5                                3775 wk 545 pn\n",
       "6                                          3750\n",
       "7                                       3750.00\n",
       "8                                       3500.00\n",
       "9                                          3500\n",
       "10                                      3200.00\n",
       "11    fine furnished residences at westprecinct\n",
       "12                                         3100\n",
       "13                                         3000\n",
       "14                                         2995\n",
       "15                                         3000\n",
       "16                                         3000\n",
       "17                                         3000\n",
       "18     fine furnished residences @ westprecinct\n",
       "19                                         2800\n",
       "Name: cost_text, dtype: object"
      ]
     },
     "execution_count": 43,
     "metadata": {},
     "output_type": "execute_result"
    }
   ],
   "source": [
    "df.iloc[0:20,1]"
   ]
  },
  {
   "cell_type": "code",
   "execution_count": 23,
   "metadata": {},
   "outputs": [],
   "source": [
    "def get_weekly_cost(x):\n",
    "    try:\n",
    "        return int(x['cost_text'])\n",
    "    except ValueError:\n",
    "        return None\n",
    "\n",
    "\n",
    "df.loc[:,\"weekly_cost($)\"] = df.apply(get_weekly_cost, axis=1)"
   ]
  },
  {
   "cell_type": "code",
   "execution_count": 32,
   "metadata": {},
   "outputs": [
    {
     "data": {
      "text/plain": [
       "Unnamed: 0  name   cost_text  coordinates  bedroom  bathroom  parking  weekly_cost($)\n",
       "False       False  False      False        False    False     False    True              399\n",
       "                                                                       False             396\n",
       "dtype: int64"
      ]
     },
     "execution_count": 32,
     "metadata": {},
     "output_type": "execute_result"
    }
   ],
   "source": [
    "df.isnull().value_counts()"
   ]
  }
 ],
 "metadata": {
  "kernelspec": {
   "display_name": "Python 3.8.13 ('ads')",
   "language": "python",
   "name": "python3"
  },
  "language_info": {
   "codemirror_mode": {
    "name": "ipython",
    "version": 3
   },
   "file_extension": ".py",
   "mimetype": "text/x-python",
   "name": "python",
   "nbconvert_exporter": "python",
   "pygments_lexer": "ipython3",
   "version": "3.8.13"
  },
  "orig_nbformat": 4,
  "vscode": {
   "interpreter": {
    "hash": "766ca3b46ae585b88ab3de958168df6329f76e1c7bcf3d6a3ca4ca420707fd8d"
   }
  }
 },
 "nbformat": 4,
 "nbformat_minor": 2
}
