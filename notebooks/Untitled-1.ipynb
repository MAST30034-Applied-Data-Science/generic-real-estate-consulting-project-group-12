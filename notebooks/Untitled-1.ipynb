{
 "cells": [
  {
   "cell_type": "code",
   "execution_count": 1,
   "metadata": {},
   "outputs": [],
   "source": [
    "import pandas as pd\n",
    "import openrouteservice\n",
    "import math\n",
    "house_df_combined = pd.read_csv('../data/house_combined.csv')\n",
    "import ast\n",
    "lat_list = []\n",
    "long_list = []\n",
    "for i in range(len(house_df_combined)):\n",
    "    if pd.isnull(house_df_combined.geoLocation[i]):\n",
    "        lat_list.append(None)\n",
    "        long_list.append(None)\n",
    "    else:\n",
    "        latitude = ast.literal_eval(house_df_combined.geoLocation[i])['latitude']\n",
    "        longitude = ast.literal_eval(house_df_combined.geoLocation[i])['longitude']\n",
    "        lat_list.append(latitude)\n",
    "        long_list.append(longitude)\n",
    "house_df_combined['latitude'] = lat_list\n",
    "house_df_combined['longitude'] = long_list"
   ]
  },
  {
   "cell_type": "code",
   "execution_count": 2,
   "metadata": {},
   "outputs": [
    {
     "name": "stdout",
     "output_type": "stream",
     "text": [
      "78000\n"
     ]
    },
    {
     "name": "stderr",
     "output_type": "stream",
     "text": [
      "/Users/heyonglin/opt/anaconda3/lib/python3.9/site-packages/openrouteservice/directions.py:202: UserWarning: Less than 4 coordinates, nothing to optimize!\n",
      "  warnings.warn(\"Less than 4 coordinates, nothing to optimize!\", UserWarning)\n"
     ]
    },
    {
     "name": "stdout",
     "output_type": "stream",
     "text": [
      "102872.3\n",
      "78001\n"
     ]
    },
    {
     "name": "stderr",
     "output_type": "stream",
     "text": [
      "/Users/heyonglin/opt/anaconda3/lib/python3.9/site-packages/openrouteservice/client.py:211: UserWarning: Rate limit exceeded. Retrying for the 1st time.\n",
      "  warnings.warn('Rate limit exceeded. Retrying for the {0}{1} time.'.format(retry_counter + 1,\n",
      "/Users/heyonglin/opt/anaconda3/lib/python3.9/site-packages/openrouteservice/client.py:211: UserWarning: Rate limit exceeded. Retrying for the 2nd time.\n",
      "  warnings.warn('Rate limit exceeded. Retrying for the {0}{1} time.'.format(retry_counter + 1,\n",
      "/Users/heyonglin/opt/anaconda3/lib/python3.9/site-packages/openrouteservice/client.py:211: UserWarning: Rate limit exceeded. Retrying for the 3rd time.\n",
      "  warnings.warn('Rate limit exceeded. Retrying for the {0}{1} time.'.format(retry_counter + 1,\n",
      "/Users/heyonglin/opt/anaconda3/lib/python3.9/site-packages/openrouteservice/client.py:211: UserWarning: Rate limit exceeded. Retrying for the 4th time.\n",
      "  warnings.warn('Rate limit exceeded. Retrying for the {0}{1} time.'.format(retry_counter + 1,\n",
      "/Users/heyonglin/opt/anaconda3/lib/python3.9/site-packages/openrouteservice/client.py:211: UserWarning: Rate limit exceeded. Retrying for the 5th time.\n",
      "  warnings.warn('Rate limit exceeded. Retrying for the {0}{1} time.'.format(retry_counter + 1,\n",
      "/Users/heyonglin/opt/anaconda3/lib/python3.9/site-packages/openrouteservice/client.py:211: UserWarning: Rate limit exceeded. Retrying for the 6th time.\n",
      "  warnings.warn('Rate limit exceeded. Retrying for the {0}{1} time.'.format(retry_counter + 1,\n",
      "/Users/heyonglin/opt/anaconda3/lib/python3.9/site-packages/openrouteservice/client.py:211: UserWarning: Rate limit exceeded. Retrying for the 7th time.\n",
      "  warnings.warn('Rate limit exceeded. Retrying for the {0}{1} time.'.format(retry_counter + 1,\n",
      "/Users/heyonglin/opt/anaconda3/lib/python3.9/site-packages/openrouteservice/client.py:211: UserWarning: Rate limit exceeded. Retrying for the 8th time.\n",
      "  warnings.warn('Rate limit exceeded. Retrying for the {0}{1} time.'.format(retry_counter + 1,\n"
     ]
    },
    {
     "name": "stdout",
     "output_type": "stream",
     "text": [
      "105538.3\n",
      "78002\n",
      "100550.2\n",
      "78003\n",
      "101962.4\n",
      "78004\n",
      "111400.8\n",
      "78005\n",
      "102747.0\n",
      "78006\n",
      "102319.3\n",
      "78007\n",
      "102672.4\n",
      "78008\n",
      "104833.8\n",
      "78009\n",
      "103016.6\n",
      "78010\n",
      "105282.7\n",
      "78011\n",
      "102970.0\n",
      "78012\n",
      "102681.9\n",
      "78013\n",
      "102319.3\n",
      "78014\n",
      "102801.5\n",
      "78015\n",
      "102257.1\n",
      "78016\n",
      "102647.3\n",
      "78017\n",
      "107875.9\n",
      "78018\n",
      "101674.2\n",
      "78019\n",
      "107763.5\n",
      "78020\n",
      "101596.8\n",
      "78021\n",
      "104490.0\n",
      "78022\n",
      "98337.6\n",
      "78023\n",
      "103226.0\n",
      "78024\n",
      "102749.0\n",
      "78025\n",
      "90398.4\n",
      "78026\n",
      "103487.2\n",
      "78027\n",
      "103318.5\n",
      "78028\n",
      "108314.6\n",
      "78029\n",
      "107837.6\n",
      "78030\n"
     ]
    }
   ],
   "source": [
    "distance_list_6 = []\n",
    "for i in range(78000,80000):\n",
    "    print(i)\n",
    "    if math.isnan(house_df_combined['longitude'][i]) is True:\n",
    "        distance_list_6.append(None)\n",
    "    else:\n",
    "        coords = ((144.961602,-37.813937),(house_df_combined['longitude'][i],house_df_combined['latitude'][i]))\n",
    "        client = openrouteservice.Client(key='5b3ce3597851110001cf6248a441c6c9da564b889ad1df74ea11abca') \n",
    "        routes = client.directions(coords, profile='driving-car', optimize_waypoints=True, radiuses = 1000)\n",
    "        distance = routes['routes'][0]['summary']['distance']\n",
    "        print(distance)\n",
    "        distance_list_6.append(distance)"
   ]
  }
 ],
 "metadata": {
  "kernelspec": {
   "display_name": "Python 3.9.7 ('base')",
   "language": "python",
   "name": "python3"
  },
  "language_info": {
   "codemirror_mode": {
    "name": "ipython",
    "version": 3
   },
   "file_extension": ".py",
   "mimetype": "text/x-python",
   "name": "python",
   "nbconvert_exporter": "python",
   "pygments_lexer": "ipython3",
   "version": "3.9.7"
  },
  "orig_nbformat": 4,
  "vscode": {
   "interpreter": {
    "hash": "d1e7dfa373d7903744c503ef55fd7294a1d9938d2fabb734498f49571dc8aad8"
   }
  }
 },
 "nbformat": 4,
 "nbformat_minor": 2
}
