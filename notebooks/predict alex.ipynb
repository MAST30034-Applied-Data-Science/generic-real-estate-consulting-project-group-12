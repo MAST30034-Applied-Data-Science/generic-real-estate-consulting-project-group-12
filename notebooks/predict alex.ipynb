{
 "cells": [
  {
   "cell_type": "code",
   "execution_count": 92,
   "metadata": {},
   "outputs": [],
   "source": [
    "import numpy as np\n",
    "import pandas as pd\n",
    "from pandas import DataFrame\n",
    "import matplotlib.pyplot as plt\n",
    "from sklearn.model_selection import train_test_split\n",
    "from statsmodels.formula.api import ols \n",
    "from sklearn.impute import SimpleImputer\n",
    "from sklearn.ensemble import RandomForestRegressor\n",
    "from sklearn.ensemble import RandomForestClassifier"
   ]
  },
  {
   "cell_type": "code",
   "execution_count": 57,
   "metadata": {},
   "outputs": [],
   "source": [
    "data = pd.read_csv('cleaned_complete.csv')"
   ]
  },
  {
   "cell_type": "code",
   "execution_count": 70,
   "metadata": {},
   "outputs": [],
   "source": [
    "data = data[['year','month','bathrooms', 'bedrooms', 'carspaces','postcode','rent',\n",
    "       'distance of the closest bus stop','count of bus stop', \n",
    "       'count of tram stop', \n",
    "       'count of vline stop', \n",
    "       'count of school', 'count of hospital',\n",
    "        'count of shopping mall',\n",
    "       'bench', 'cafe', 'childcare', 'fast_food', 'kindergarten', 'parking',\n",
    "       'restaurant', 'place_of_worship', 'school', 'university', 'garden',\n",
    "       'park', 'playground', 'pitch', 'offence count', 'incidents recorded']]"
   ]
  },
  {
   "cell_type": "code",
   "execution_count": 71,
   "metadata": {},
   "outputs": [],
   "source": [
    "postcode = list(data['postcode'].drop_duplicates())"
   ]
  },
  {
   "cell_type": "code",
   "execution_count": 72,
   "metadata": {},
   "outputs": [],
   "source": [
    "# split all data by postcode\n",
    "for i in postcode:\n",
    "    split_data  = data[data['postcode'] == i]\n",
    "    split_data.to_csv('split data/./%s.csv'%(i))"
   ]
  },
  {
   "cell_type": "code",
   "execution_count": 73,
   "metadata": {},
   "outputs": [],
   "source": [
    "features = data.drop('rent',axis=1)\n",
    "target = data['rent']"
   ]
  },
  {
   "cell_type": "code",
   "execution_count": 74,
   "metadata": {},
   "outputs": [
    {
     "name": "stdout",
     "output_type": "stream",
     "text": [
      "100639\n",
      "29\n"
     ]
    }
   ],
   "source": [
    "\n",
    "X_full, y_full = features,target\n",
    "n_samples = X_full.shape[0]\n",
    "n_features = X_full.shape[1] \n",
    "print(n_samples)\n",
    "print(n_features)\n",
    " \n",
    "\n",
    "rng = np.random.RandomState(0)\n",
    "missing_rate = 0.5\n",
    "n_missing_samples = int(np.floor(n_samples * n_features *missing_rate))\n",
    "\n",
    " \n",
    "X_missing_reg = X_full.copy()\n",
    "\n",
    "missing = X_missing_reg .isna().sum()\n",
    "missing = pd.DataFrame(data={'特征': missing.index,'缺失值个数':missing.values})\n",
    "\n",
    "missing = missing[~missing['缺失值个数'].isin([0])]\n",
    "\n",
    "missing['缺失比例'] =  missing['缺失值个数']/X_missing_reg .shape[0]\n",
    "X_df = X_missing_reg.isnull().sum()\n",
    "\n",
    "colname = X_df[~X_df.isin([0])].sort_values().index.values\n",
    "\n",
    "sortindex = []\n",
    "for i in colname:\n",
    "    sortindex.append(X_missing_reg.columns.tolist().index(str(i)))\n",
    "\n",
    "for i in sortindex:\n",
    "   \n",
    "    df = X_missing_reg \n",
    "    fillc = df.iloc[:, i]  \n",
    "   \n",
    "    df = pd.concat([df.drop(df.columns[i], axis=1), pd.DataFrame(y_full)], axis=1)\n",
    "   \n",
    "    df_0 = SimpleImputer(missing_values=np.nan, strategy='constant', fill_value=0).fit_transform(df)\n",
    " \n",
    "    Ytrain = fillc[fillc.notnull()]  \n",
    "    Ytest = fillc[fillc.isnull()]  \n",
    "   \n",
    "    Xtrain = df_0[Ytrain.index, :]\n",
    "    Xtest = df_0[Ytest.index, :]  \n",
    "    rfc = RandomForestRegressor(n_estimators=100)  \n",
    "    rfc = rfc.fit(Xtrain, Ytrain)\n",
    "    Ypredict = rfc.predict(Xtest)  \n",
    "    \n",
    "    X_missing_reg.loc[X_missing_reg.iloc[:, i].isnull(), X_missing_reg.columns[i]] = Ypredict\n"
   ]
  },
  {
   "cell_type": "code",
   "execution_count": 78,
   "metadata": {},
   "outputs": [],
   "source": [
    "new_data = X_missing_reg"
   ]
  },
  {
   "cell_type": "code",
   "execution_count": 80,
   "metadata": {},
   "outputs": [],
   "source": [
    "X = new_data\n",
    "y = data['rent']"
   ]
  },
  {
   "cell_type": "code",
   "execution_count": 82,
   "metadata": {},
   "outputs": [],
   "source": [
    "X_length = X.shape[0]\n",
    "split = int(X_length * 0.8)\n",
    "X_train,X_test = X[:split].astype('int'),X[split:].astype('int')\n",
    "y_train,y_test = y[:split].astype('int'),y[split:].astype('int')"
   ]
  },
  {
   "cell_type": "code",
   "execution_count": 86,
   "metadata": {},
   "outputs": [
    {
     "data": {
      "text/plain": [
       "RandomForestClassifier(max_depth=20, min_samples_leaf=10, n_estimators=20,\n",
       "                       random_state=123)"
      ]
     },
     "execution_count": 86,
     "metadata": {},
     "output_type": "execute_result"
    }
   ],
   "source": [
    "model1 = RandomForestClassifier(max_depth=20,n_estimators=20,min_samples_leaf=10,random_state=123)\n",
    "model1.fit(X_train,y_train)"
   ]
  },
  {
   "cell_type": "code",
   "execution_count": 88,
   "metadata": {},
   "outputs": [
    {
     "data": {
      "text/plain": [
       "array([1.34167428e-01, 2.39513527e-01, 4.94637593e-02, 9.83838693e-02,\n",
       "       6.99931327e-02, 3.37131719e-02, 7.41952579e-05, 3.72192935e-02,\n",
       "       2.31264980e-02, 6.94419035e-03, 2.18598575e-02, 1.18052590e-02,\n",
       "       8.98794665e-03, 1.76766669e-02, 1.82827559e-02, 7.19664441e-03,\n",
       "       1.57056329e-02, 1.12895601e-02, 1.97255354e-02, 1.73330086e-02,\n",
       "       1.42403207e-02, 1.73829623e-02, 4.01334478e-03, 1.39263921e-02,\n",
       "       2.15101759e-02, 1.69190769e-02, 1.88494828e-02, 2.54671251e-02,\n",
       "       2.52291867e-02])"
      ]
     },
     "execution_count": 88,
     "metadata": {},
     "output_type": "execute_result"
    }
   ],
   "source": [
    "model1.feature_importances_"
   ]
  },
  {
   "cell_type": "code",
   "execution_count": 94,
   "metadata": {},
   "outputs": [
    {
     "name": "stdout",
     "output_type": "stream",
     "text": [
      "7.419525785618739e-05 distance of the closest bus stop\n",
      "0.00401334477704895 university\n",
      "0.006944190349738026 count of vline stop\n",
      "0.007196644413403281 childcare\n",
      "0.008987946650844502 count of shopping mall\n",
      "0.011289560060944616 kindergarten\n",
      "0.01180525902935192 count of hospital\n",
      "0.013926392087407277 garden\n",
      "0.014240320714190314 place_of_worship\n",
      "0.01570563287325556 fast_food\n",
      "0.01691907689847556 playground\n",
      "0.017333008628672576 restaurant\n",
      "0.017382962257656988 school\n",
      "0.017676666875699153 bench\n",
      "0.018282755916609137 cafe\n",
      "0.018849482772003736 pitch\n",
      "0.01972553542257291 parking\n",
      "0.021510175884993966 park\n",
      "0.021859857454552118 count of school\n",
      "0.023126498032503152 count of tram stop\n",
      "0.025229186709564633 incidents recorded\n",
      "0.025467125090750525 offence count\n",
      "0.033713171875673055 postcode\n",
      "0.037219293535829555 count of bus stop\n",
      "0.049463759337560476 bathrooms\n",
      "0.06999313273869075 carspaces\n",
      "0.09838386930863256 bedrooms\n",
      "0.1341674277064208 year\n",
      "0.23951352733909773 month\n"
     ]
    },
    {
     "data": {
      "image/png": "[encoded data removed]",
      "text/plain": [
       "<Figure size 432x288 with 1 Axes>"
      ]
     },
     "metadata": {
      "needs_background": "light"
     },
     "output_type": "display_data"
    }
   ],
   "source": [
    "features_import = DataFrame(new_data.columns, columns=['feature'])\n",
    "features_import['importance'] = model1.feature_importances_  \n",
    "features_import.sort_values('importance', inplace=True)\n",
    "\n",
    "from matplotlib import pyplot as plt\n",
    "plt.rcParams['font.sans-serif'] = ['SimHei']  \n",
    "\n",
    "plt.barh(features_import['feature'], features_import['importance'], height=0.7, color='#008792', edgecolor='#005344') \n",
    "plt.xlabel('feature importance')\n",
    "plt.ylabel('features') \n",
    "plt.title('Feature Importances') \n",
    "for a,b in zip( features_import['importance'],features_import['feature']): \n",
    "   print(a,b)\n",
    "   plt.text(a+0.001, b,'%.3f'%float(a)) \n",
    "plt.show()"
   ]
  }
 ],
 "metadata": {
  "kernelspec": {
   "display_name": "Python 3.9.2 64-bit",
   "language": "python",
   "name": "python3"
  },
  "language_info": {
   "codemirror_mode": {
    "name": "ipython",
    "version": 3
   },
   "file_extension": ".py",
   "mimetype": "text/x-python",
   "name": "python",
   "nbconvert_exporter": "python",
   "pygments_lexer": "ipython3",
   "version": "3.9.2"
  },
  "orig_nbformat": 4,
  "vscode": {
   "interpreter": {
    "hash": "f4c019a45beb6de43204c8f6a051931db149db6186e05a6be77253b751934e5a"
   }
  }
 },
 "nbformat": 4,
 "nbformat_minor": 2
}
