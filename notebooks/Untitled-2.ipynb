{
 "cells": [
  {
   "cell_type": "code",
   "execution_count": 1,
   "metadata": {},
   "outputs": [],
   "source": [
    "import pandas as pd\n",
    "import openrouteservice\n",
    "import math\n",
    "house_df_combined = pd.read_csv('../data/house_combined.csv')\n",
    "import ast\n",
    "lat_list = []\n",
    "long_list = []\n",
    "for i in range(len(house_df_combined)):\n",
    "    if pd.isnull(house_df_combined.geoLocation[i]):\n",
    "        lat_list.append(None)\n",
    "        long_list.append(None)\n",
    "    else:\n",
    "        latitude = ast.literal_eval(house_df_combined.geoLocation[i])['latitude']\n",
    "        longitude = ast.literal_eval(house_df_combined.geoLocation[i])['longitude']\n",
    "        lat_list.append(latitude)\n",
    "        long_list.append(longitude)\n",
    "house_df_combined['latitude'] = lat_list\n",
    "house_df_combined['longitude'] = long_list"
   ]
  },
  {
   "cell_type": "code",
   "execution_count": 2,
   "metadata": {},
   "outputs": [
    {
     "name": "stdout",
     "output_type": "stream",
     "text": [
      "80000\n"
     ]
    },
    {
     "name": "stderr",
     "output_type": "stream",
     "text": [
      "/Users/heyonglin/opt/anaconda3/lib/python3.9/site-packages/openrouteservice/directions.py:202: UserWarning: Less than 4 coordinates, nothing to optimize!\n",
      "  warnings.warn(\"Less than 4 coordinates, nothing to optimize!\", UserWarning)\n"
     ]
    },
    {
     "name": "stdout",
     "output_type": "stream",
     "text": [
      "1929.0\n",
      "80001\n",
      "1727.7\n",
      "80002\n",
      "1727.7\n",
      "80003\n",
      "18527.0\n",
      "80004\n",
      "18780.3\n",
      "80005\n",
      "2491.6\n",
      "80006\n",
      "8187.4\n",
      "80007\n",
      "2262.9\n",
      "80008\n",
      "2262.9\n",
      "80009\n",
      "2106.0\n",
      "80010\n",
      "2518.8\n",
      "80011\n",
      "25330.6\n",
      "80012\n",
      "2439.2\n",
      "80013\n",
      "2262.9\n",
      "80014\n",
      "5731.3\n",
      "80015\n",
      "2439.2\n",
      "80016\n",
      "4028.5\n",
      "80017\n",
      "2494.7\n",
      "80018\n"
     ]
    }
   ],
   "source": [
    "distance_list_6 = []\n",
    "for i in range(80000,82000):\n",
    "    print(i)\n",
    "    if math.isnan(house_df_combined['longitude'][i]) is True:\n",
    "        distance_list_6.append(None)\n",
    "    else:\n",
    "        coords = ((144.961602,-37.813937),(house_df_combined['longitude'][i],house_df_combined['latitude'][i]))\n",
    "        client = openrouteservice.Client(key='5b3ce3597851110001cf6248faff1a0b834f4f2c83973e95065ad4bc') \n",
    "        routes = client.directions(coords, profile='driving-car', optimize_waypoints=True, radiuses = 1000)\n",
    "        distance = routes['routes'][0]['summary']['distance']\n",
    "        print(distance)\n",
    "        distance_list_6.append(distance)"
   ]
  }
 ],
 "metadata": {
  "kernelspec": {
   "display_name": "Python 3.9.7 ('base')",
   "language": "python",
   "name": "python3"
  },
  "language_info": {
   "codemirror_mode": {
    "name": "ipython",
    "version": 3
   },
   "file_extension": ".py",
   "mimetype": "text/x-python",
   "name": "python",
   "nbconvert_exporter": "python",
   "pygments_lexer": "ipython3",
   "version": "3.9.7"
  },
  "orig_nbformat": 4,
  "vscode": {
   "interpreter": {
    "hash": "d1e7dfa373d7903744c503ef55fd7294a1d9938d2fabb734498f49571dc8aad8"
   }
  }
 },
 "nbformat": 4,
 "nbformat_minor": 2
}
