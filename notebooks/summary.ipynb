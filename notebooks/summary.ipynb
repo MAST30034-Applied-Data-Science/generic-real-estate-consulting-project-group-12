{
 "cells": [
  {
   "cell_type": "markdown",
   "metadata": {},
   "source": [
    "# **Project Summary**"
   ]
  },
  {
   "cell_type": "markdown",
   "metadata": {},
   "source": [
    "---\n",
    "## 1. Data collecting\n",
    "---"
   ]
  },
  {
   "cell_type": "markdown",
   "metadata": {},
   "source": [
    "### 1.1 property data\n",
    "We first considered to use data scraping to get the property data from domain.com, scraping.ipynb is what we used. However, we find that we cannot find the historical data by just scraping, so then we decide to use api to get the property data.\n",
    "### 1.2 Public facilities data\n",
    "We collected the public transport data from ptv by using api, and also use it to get the driving distance of them to the properties. The public facilities data such as hospitals, parks, schools are directly downloaded from the websit.(the offense and the crime data are also directly downloaded.)\n",
    "### 1.3 ABS data\n",
    "The ABS data such as population, income and sex ratio are all directed downloaded. The population forcasting are done by the ABS data.\n",
    "### 1.4 other data\n",
    "Data like CPI, GDP are also collected in order to make better prediction.\n"
   ]
  },
  {
   "cell_type": "markdown",
   "metadata": {},
   "source": [
    "---\n",
    "## 2.Data preprocessing\n",
    "---"
   ]
  },
  {
   "cell_type": "markdown",
   "metadata": {},
   "source": [
    "### 2.1 Merging\n",
    "We decided to use postcode as our granularity for this project. So postcode will be the merge key for the dataset that contains the postcode. While the ABS dataset are mainly depend on the SA2, in order to resolve this issue, we calculate each propertie's corresponding SA2 by their geolocation. Then merge abs data with SA2 attributes. See **'merge_v2.ipynb'** for more details.\n",
    "### 2.2 Data cleanning\n",
    "We removed the duplicates and handled the nan value. After that, we use IQR to detect the outliers for the numerical values. See **'clean data.ipynb'** for more details."
   ]
  },
  {
   "cell_type": "markdown",
   "metadata": {},
   "source": [
    "---\n",
    "## 3.Model fitting and Prediction\n",
    "---"
   ]
  },
  {
   "cell_type": "markdown",
   "metadata": {},
   "source": [
    "### 3.1 Model fitting\n",
    "In **'predict alex.ipynb'**, random forest and neural network model are fitted, while in **'prediction_shirley.ipynb'** , random forest and MLP regressor are implied. For the different models, feature importance are plotted.\n",
    "\n",
    "### 3.2 Prediction\n"
   ]
  },
  {
   "cell_type": "markdown",
   "metadata": {},
   "source": [
    "---\n",
    "## 4. Liveable and affordable score\n",
    "---"
   ]
  },
  {
   "cell_type": "markdown",
   "metadata": {},
   "source": [
    "The score is calculated with a mixture score with rent/income, public transport count*mean closest distance, public facilities count, offence and crime count, hospital count, school count and shopping mall count in each suburb, each value have their weight. For the details, see **'prediction_shirley.ipynb'**"
   ]
  }
 ],
 "metadata": {
  "kernelspec": {
   "display_name": "Python 3.10.7 64-bit (microsoft store)",
   "language": "python",
   "name": "python3"
  },
  "language_info": {
   "name": "python",
   "version": "3.10.7"
  },
  "orig_nbformat": 4,
  "vscode": {
   "interpreter": {
    "hash": "4031e925b73e72eb49da041703ee78e7cf7027953c4a7009f764ec801a503347"
   }
  }
 },
 "nbformat": 4,
 "nbformat_minor": 2
}
