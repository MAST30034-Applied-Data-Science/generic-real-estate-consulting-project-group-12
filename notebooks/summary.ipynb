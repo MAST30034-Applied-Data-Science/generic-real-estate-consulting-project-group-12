{
 "cells": [
  {
   "cell_type": "markdown",
   "metadata": {},
   "source": [
    "# **Project Summary**"
   ]
  },
  {
   "cell_type": "markdown",
   "metadata": {},
   "source": [
    "## 1. Data collecting\n",
    "---"
   ]
  },
  {
   "cell_type": "markdown",
   "metadata": {},
   "source": [
    "### 1.1 property data\n",
    "We first considered to use data scraping to get the property data from domain.com, scraping.ipynb is what we used. However, we find that we cannot find the historical data by just scraping, so then we decide to use api to get the property data.\n",
    "### 1.2 Public facilities data\n",
    "We collected the public transport data from ptv by using api, and also use it to get the driving distance of them to the properties. The public facilities data such as hospitals, parks, schools are directly downloaded from the websit.(the offense and the crime data are also directly downloaded.)\n",
    "### 1.3 "
   ]
  }
 ],
 "metadata": {
  "kernelspec": {
   "display_name": "Python 3.10.7 64-bit (microsoft store)",
   "language": "python",
   "name": "python3"
  },
  "language_info": {
   "name": "python",
   "version": "3.10.7"
  },
  "orig_nbformat": 4,
  "vscode": {
   "interpreter": {
    "hash": "4031e925b73e72eb49da041703ee78e7cf7027953c4a7009f764ec801a503347"
   }
  }
 },
 "nbformat": 4,
 "nbformat_minor": 2
}
