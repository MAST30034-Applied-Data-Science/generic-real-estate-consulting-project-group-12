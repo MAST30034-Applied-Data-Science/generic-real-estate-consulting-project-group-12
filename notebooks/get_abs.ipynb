{
 "cells": [
  {
   "cell_type": "code",
   "execution_count": null,
   "metadata": {},
   "outputs": [],
   "source": [
    "import requests\n",
    "import pandas as pd\n",
    "url = 'https://api.data.abs.gov.au/data/ABS,ABS_ANNUAL_ERP_ASGS2021,1.2.0/..AUS+8+7+6+5+4+3+2+1.?startPeriod=2011'\n",
    "header = {'accept': 'application/vnd.sdmx.data+json'}\n",
    "response = requests.get(url,headers = header)\n",
    "data = response.json()\n",
    "data"
   ]
  },
  {
   "cell_type": "code",
   "execution_count": null,
   "metadata": {},
   "outputs": [],
   "source": [
    "import requests\n",
    "import pandas as pd\n",
    "url = 'https://api.data.abs.gov.au/data/ABS,ABS_ANNUAL_ERP_ASGS2016,1.2.0/..8+7+6+5+4+3+2+1+0.?startPeriod=2011&dimensionAtObservation=AllDimensions'\n",
    "header = {'accept': 'application/vnd.sdmx.data+json'}\n",
    "response = requests.get(url,headers = header)\n",
    "data = response.json()\n",
    "data"
   ]
  },
  {
   "cell_type": "code",
   "execution_count": 4,
   "metadata": {},
   "outputs": [
    {
     "data": {
      "text/plain": [
       "{'id': 'REGION_TYPE',\n",
       " 'name': 'Geography Level',\n",
       " 'names': {'en': 'Geography Level'},\n",
       " 'keyPosition': 1,\n",
       " 'roles': ['GEO_LEVEL'],\n",
       " 'values': [{'id': 'STE',\n",
       "   'order': 1,\n",
       "   'name': 'States and Territories',\n",
       "   'names': {'en': 'States and Territories'},\n",
       "   'annotations': [8]},\n",
       "  {'id': 'AUS',\n",
       "   'order': 0,\n",
       "   'name': 'Australia',\n",
       "   'names': {'en': 'Australia'},\n",
       "   'annotations': [9]}]}"
      ]
     },
     "execution_count": 4,
     "metadata": {},
     "output_type": "execute_result"
    }
   ],
   "source": [
    "d = data.get('data')\n",
    "d2 = d.get('structure')\n",
    "d3 = d2.get('dimensions')\n",
    "d3.get('series')[1]"
   ]
  },
  {
   "cell_type": "code",
   "execution_count": 5,
   "metadata": {},
   "outputs": [],
   "source": [
    "keys = []\n",
    "for i in d.get('dataSets')[0].get('series').keys():\n",
    "    keys.append(i)"
   ]
  },
  {
   "cell_type": "code",
   "execution_count": 6,
   "metadata": {},
   "outputs": [],
   "source": [
    "values = []\n",
    "for i in keys:\n",
    "    l = []\n",
    "    for j in range(11):\n",
    "        result = d.get('dataSets')[0].get('series').get(i).get('observations').get(str(j))\n",
    "        l.append(result)\n",
    "    values.append(l)\n"
   ]
  },
  {
   "cell_type": "code",
   "execution_count": 7,
   "metadata": {},
   "outputs": [
    {
     "data": {
      "text/plain": [
       "[[[7218529],\n",
       "  [7304244],\n",
       "  [7404032],\n",
       "  [7508353],\n",
       "  [7616168],\n",
       "  [7732858],\n",
       "  [7850871],\n",
       "  [7945580],\n",
       "  [8034305],\n",
       "  [8094317],\n",
       "  [8093815]],\n",
       " [[511483],\n",
       "  [511724],\n",
       "  [512231],\n",
       "  [513621],\n",
       "  [515117],\n",
       "  [517514],\n",
       "  [528324],\n",
       "  [540112],\n",
       "  [552310],\n",
       "  [563507],\n",
       "  [567909]],\n",
       " [[4476778],\n",
       "  [4568687],\n",
       "  [4652824],\n",
       "  [4719653],\n",
       "  [4777692],\n",
       "  [4845152],\n",
       "  [4928374],\n",
       "  [5010502],\n",
       "  [5094718],\n",
       "  [5175003],\n",
       "  [5217653]],\n",
       " [[2353409],\n",
       "  [2425507],\n",
       "  [2486944],\n",
       "  [2517608],\n",
       "  [2540672],\n",
       "  [2555978],\n",
       "  [2587577],\n",
       "  [2621052],\n",
       "  [2663795],\n",
       "  [2718400],\n",
       "  [2749864]],\n",
       " [[22340024],\n",
       "  [22733465],\n",
       "  [23128129],\n",
       "  [23475686],\n",
       "  [23815995],\n",
       "  [24190907],\n",
       "  [24594202],\n",
       "  [24966643],\n",
       "  [25340217],\n",
       "  [25655289],\n",
       "  [25688079]],\n",
       " [[1639614],\n",
       "  [1656725],\n",
       "  [1671488],\n",
       "  [1686945],\n",
       "  [1700668],\n",
       "  [1712843],\n",
       "  [1729608],\n",
       "  [1748010],\n",
       "  [1770048],\n",
       "  [1793547],\n",
       "  [1803192]],\n",
       " [[231292],\n",
       "  [235915],\n",
       "  [241722],\n",
       "  [242894],\n",
       "  [244692],\n",
       "  [245678],\n",
       "  [248161],\n",
       "  [248363],\n",
       "  [248153],\n",
       "  [248943],\n",
       "  [249200]],\n",
       " [[367985],\n",
       "  [376539],\n",
       "  [383257],\n",
       "  [388799],\n",
       "  [395813],\n",
       "  [403104],\n",
       "  [416824],\n",
       "  [430140],\n",
       "  [441277],\n",
       "  [450632],\n",
       "  [453558]],\n",
       " [[5537817],\n",
       "  [5651091],\n",
       "  [5772669],\n",
       "  [5894917],\n",
       "  [6022322],\n",
       "  [6173172],\n",
       "  [6299798],\n",
       "  [6418168],\n",
       "  [6530852],\n",
       "  [6606149],\n",
       "  [6548040]]]"
      ]
     },
     "execution_count": 7,
     "metadata": {},
     "output_type": "execute_result"
    }
   ],
   "source": [
    "valus"
   ]
  },
  {
   "cell_type": "code",
   "execution_count": 184,
   "metadata": {},
   "outputs": [
    {
     "data": {
      "text/plain": [
       "{'0': [7218529],\n",
       " '1': [7304244],\n",
       " '2': [7404032],\n",
       " '3': [7508353],\n",
       " '4': [7616168],\n",
       " '5': [7732858],\n",
       " '6': [7850871],\n",
       " '7': [7945580],\n",
       " '8': [8034305],\n",
       " '9': [8094317],\n",
       " '10': [8093815]}"
      ]
     },
     "execution_count": 184,
     "metadata": {},
     "output_type": "execute_result"
    }
   ],
   "source": [
    "d.get('dataSets')[0].get('series').get('0:0:0:0').get('observations')"
   ]
  },
  {
   "cell_type": "code",
   "execution_count": 105,
   "metadata": {},
   "outputs": [
    {
     "data": {
      "text/plain": [
       "'Australia'"
      ]
     },
     "execution_count": 105,
     "metadata": {},
     "output_type": "execute_result"
    }
   ],
   "source": [
    "d3.get('series')[1].get('values')[1].get('name')"
   ]
  },
  {
   "cell_type": "code",
   "execution_count": 119,
   "metadata": {},
   "outputs": [
    {
     "data": {
      "text/plain": [
       "'Region'"
      ]
     },
     "execution_count": 119,
     "metadata": {},
     "output_type": "execute_result"
    }
   ],
   "source": [
    "list_name = d3.get('series')[2].get('names').get('en')\n",
    "list_name"
   ]
  },
  {
   "cell_type": "code",
   "execution_count": 127,
   "metadata": {},
   "outputs": [],
   "source": [
    "name_list = []\n",
    "for i in range(len(d3.get('series')[2].get('values'))):\n",
    "    name = d3.get('series')[2].get('values')[i].get('name')\n",
    "    name_list.append(name)"
   ]
  },
  {
   "cell_type": "code",
   "execution_count": 157,
   "metadata": {},
   "outputs": [
    {
     "data": {
      "text/plain": [
       "['New South Wales',\n",
       " 'Tasmania',\n",
       " 'Queensland',\n",
       " 'Western Australia',\n",
       " 'Australia',\n",
       " 'South Australia',\n",
       " 'Northern Territory',\n",
       " 'Australian Capital Territory',\n",
       " 'Victoria']"
      ]
     },
     "execution_count": 157,
     "metadata": {},
     "output_type": "execute_result"
    }
   ],
   "source": [
    "name_list"
   ]
  },
  {
   "cell_type": "code",
   "execution_count": 155,
   "metadata": {},
   "outputs": [],
   "source": [
    "year_list = []\n",
    "for i in range(len(d3.get('observation')[0].get('values'))):\n",
    "    year = d3.get('observation')[0].get('values')[i].get('id')\n",
    "    year_list.append(year)"
   ]
  },
  {
   "cell_type": "code",
   "execution_count": null,
   "metadata": {},
   "outputs": [],
   "source": [
    "url = 'https://api.data.abs.gov.au/dataflow/ABS/ABS_ANNUAL_ERP_ASGS2021/1.2.0?references=all'\n",
    "header = {'accept': 'application/vnd.sdmx.structure+json'}\n",
    "response = requests.get(url,headers = header)\n",
    "data = response.json()\n",
    "data"
   ]
  },
  {
   "cell_type": "code",
   "execution_count": 9,
   "metadata": {},
   "outputs": [
    {
     "ename": "FileNotFoundError",
     "evalue": "[Errno 2] No such file or directory: '../data/abs_dataflow.json'",
     "output_type": "error",
     "traceback": [
      "\u001b[0;31m---------------------------------------------------------------------------\u001b[0m",
      "\u001b[0;31mFileNotFoundError\u001b[0m                         Traceback (most recent call last)",
      "\u001b[0;32m/var/folders/rx/_11wjxvj4hx57z74nvgkbvpr0000gn/T/ipykernel_50962/419722197.py\u001b[0m in \u001b[0;36m<module>\u001b[0;34m\u001b[0m\n\u001b[1;32m      1\u001b[0m \u001b[0mdata\u001b[0m \u001b[0;34m=\u001b[0m \u001b[0mresponse\u001b[0m\u001b[0;34m.\u001b[0m\u001b[0mjson\u001b[0m\u001b[0;34m(\u001b[0m\u001b[0;34m)\u001b[0m\u001b[0;34m\u001b[0m\u001b[0;34m\u001b[0m\u001b[0m\n\u001b[1;32m      2\u001b[0m \u001b[0;32mimport\u001b[0m \u001b[0mjson\u001b[0m\u001b[0;34m\u001b[0m\u001b[0;34m\u001b[0m\u001b[0m\n\u001b[0;32m----> 3\u001b[0;31m \u001b[0;32mwith\u001b[0m \u001b[0mopen\u001b[0m \u001b[0;34m(\u001b[0m\u001b[0;34m'../data/abs_dataflow.json'\u001b[0m\u001b[0;34m,\u001b[0m\u001b[0mmode\u001b[0m \u001b[0;34m=\u001b[0m \u001b[0;34m'w'\u001b[0m\u001b[0;34m)\u001b[0m \u001b[0;32mas\u001b[0m \u001b[0mfp\u001b[0m\u001b[0;34m:\u001b[0m\u001b[0;34m\u001b[0m\u001b[0;34m\u001b[0m\u001b[0m\n\u001b[0m\u001b[1;32m      4\u001b[0m     \u001b[0mjson\u001b[0m\u001b[0;34m.\u001b[0m\u001b[0mdump\u001b[0m\u001b[0;34m(\u001b[0m\u001b[0mdata\u001b[0m\u001b[0;34m,\u001b[0m\u001b[0mfp\u001b[0m\u001b[0;34m,\u001b[0m\u001b[0mindent\u001b[0m\u001b[0;34m=\u001b[0m \u001b[0;36m4\u001b[0m\u001b[0;34m)\u001b[0m\u001b[0;34m\u001b[0m\u001b[0;34m\u001b[0m\u001b[0m\n",
      "\u001b[0;31mFileNotFoundError\u001b[0m: [Errno 2] No such file or directory: '../data/abs_dataflow.json'"
     ]
    }
   ],
   "source": [
    "data = response.json()\n",
    "import json\n",
    "with open ('../data/abs_dataflow.json',mode = 'w') as fp:\n",
    "    json.dump(data,fp,indent= 4)"
   ]
  },
  {
   "cell_type": "code",
   "execution_count": 10,
   "metadata": {},
   "outputs": [
    {
     "ename": "TypeError",
     "evalue": "key: expected bytes or bytearray, but got 'str'",
     "output_type": "error",
     "traceback": [
      "\u001b[0;31m---------------------------------------------------------------------------\u001b[0m",
      "\u001b[0;31mTypeError\u001b[0m                                 Traceback (most recent call last)",
      "\u001b[0;32m/var/folders/rx/_11wjxvj4hx57z74nvgkbvpr0000gn/T/ipykernel_52666/492050692.py\u001b[0m in \u001b[0;36m<module>\u001b[0;34m\u001b[0m\n\u001b[1;32m     10\u001b[0m     \u001b[0msignature\u001b[0m \u001b[0;34m=\u001b[0m \u001b[0mhashed\u001b[0m\u001b[0;34m.\u001b[0m\u001b[0mhexdigest\u001b[0m\u001b[0;34m(\u001b[0m\u001b[0;34m)\u001b[0m\u001b[0;34m\u001b[0m\u001b[0;34m\u001b[0m\u001b[0m\n\u001b[1;32m     11\u001b[0m     \u001b[0;32mreturn\u001b[0m \u001b[0;34m'http://tst.timetableapi.ptv.vic.gov.au'\u001b[0m\u001b[0;34m+\u001b[0m\u001b[0mraw\u001b[0m\u001b[0;34m+\u001b[0m\u001b[0;34m'&signature={1}'\u001b[0m\u001b[0;34m.\u001b[0m\u001b[0mformat\u001b[0m\u001b[0;34m(\u001b[0m\u001b[0mdevId\u001b[0m\u001b[0;34m,\u001b[0m \u001b[0msignature\u001b[0m\u001b[0;34m)\u001b[0m\u001b[0;34m\u001b[0m\u001b[0;34m\u001b[0m\u001b[0m\n\u001b[0;32m---> 12\u001b[0;31m \u001b[0mgetUrl\u001b[0m\u001b[0;34m(\u001b[0m\u001b[0;34m'/v2/healthcheck'\u001b[0m\u001b[0;34m)\u001b[0m\u001b[0;34m\u001b[0m\u001b[0;34m\u001b[0m\u001b[0m\n\u001b[0m",
      "\u001b[0;32m/var/folders/rx/_11wjxvj4hx57z74nvgkbvpr0000gn/T/ipykernel_52666/492050692.py\u001b[0m in \u001b[0;36mgetUrl\u001b[0;34m(request)\u001b[0m\n\u001b[1;32m      7\u001b[0m     \u001b[0mrequest\u001b[0m \u001b[0;34m=\u001b[0m \u001b[0mrequest\u001b[0m \u001b[0;34m+\u001b[0m \u001b[0;34m(\u001b[0m\u001b[0;34m'&'\u001b[0m \u001b[0;32mif\u001b[0m \u001b[0;34m(\u001b[0m\u001b[0;34m'?'\u001b[0m \u001b[0;32min\u001b[0m \u001b[0mrequest\u001b[0m\u001b[0;34m)\u001b[0m \u001b[0;32melse\u001b[0m \u001b[0;34m'?'\u001b[0m\u001b[0;34m)\u001b[0m\u001b[0;34m\u001b[0m\u001b[0;34m\u001b[0m\u001b[0m\n\u001b[1;32m      8\u001b[0m     \u001b[0mraw\u001b[0m \u001b[0;34m=\u001b[0m \u001b[0mrequest\u001b[0m\u001b[0;34m+\u001b[0m\u001b[0;34m'devid={0}'\u001b[0m\u001b[0;34m.\u001b[0m\u001b[0mformat\u001b[0m\u001b[0;34m(\u001b[0m\u001b[0mdevId\u001b[0m\u001b[0;34m)\u001b[0m\u001b[0;34m\u001b[0m\u001b[0;34m\u001b[0m\u001b[0m\n\u001b[0;32m----> 9\u001b[0;31m     \u001b[0mhashed\u001b[0m \u001b[0;34m=\u001b[0m \u001b[0mhmac\u001b[0m\u001b[0;34m.\u001b[0m\u001b[0mnew\u001b[0m\u001b[0;34m(\u001b[0m\u001b[0mkey\u001b[0m\u001b[0;34m,\u001b[0m \u001b[0mraw\u001b[0m\u001b[0;34m,\u001b[0m \u001b[0msha1\u001b[0m\u001b[0;34m)\u001b[0m\u001b[0;34m\u001b[0m\u001b[0;34m\u001b[0m\u001b[0m\n\u001b[0m\u001b[1;32m     10\u001b[0m     \u001b[0msignature\u001b[0m \u001b[0;34m=\u001b[0m \u001b[0mhashed\u001b[0m\u001b[0;34m.\u001b[0m\u001b[0mhexdigest\u001b[0m\u001b[0;34m(\u001b[0m\u001b[0;34m)\u001b[0m\u001b[0;34m\u001b[0m\u001b[0;34m\u001b[0m\u001b[0m\n\u001b[1;32m     11\u001b[0m     \u001b[0;32mreturn\u001b[0m \u001b[0;34m'http://tst.timetableapi.ptv.vic.gov.au'\u001b[0m\u001b[0;34m+\u001b[0m\u001b[0mraw\u001b[0m\u001b[0;34m+\u001b[0m\u001b[0;34m'&signature={1}'\u001b[0m\u001b[0;34m.\u001b[0m\u001b[0mformat\u001b[0m\u001b[0;34m(\u001b[0m\u001b[0mdevId\u001b[0m\u001b[0;34m,\u001b[0m \u001b[0msignature\u001b[0m\u001b[0;34m)\u001b[0m\u001b[0;34m\u001b[0m\u001b[0;34m\u001b[0m\u001b[0m\n",
      "\u001b[0;32m~/opt/anaconda3/lib/python3.9/hmac.py\u001b[0m in \u001b[0;36mnew\u001b[0;34m(key, msg, digestmod)\u001b[0m\n\u001b[1;32m    168\u001b[0m     \u001b[0;32mor\u001b[0m \u001b[0mhexdigest\u001b[0m\u001b[0;34m(\u001b[0m\u001b[0;34m)\u001b[0m \u001b[0mmethods\u001b[0m\u001b[0;34m.\u001b[0m\u001b[0;34m\u001b[0m\u001b[0;34m\u001b[0m\u001b[0m\n\u001b[1;32m    169\u001b[0m     \"\"\"\n\u001b[0;32m--> 170\u001b[0;31m     \u001b[0;32mreturn\u001b[0m \u001b[0mHMAC\u001b[0m\u001b[0;34m(\u001b[0m\u001b[0mkey\u001b[0m\u001b[0;34m,\u001b[0m \u001b[0mmsg\u001b[0m\u001b[0;34m,\u001b[0m \u001b[0mdigestmod\u001b[0m\u001b[0;34m)\u001b[0m\u001b[0;34m\u001b[0m\u001b[0;34m\u001b[0m\u001b[0m\n\u001b[0m\u001b[1;32m    171\u001b[0m \u001b[0;34m\u001b[0m\u001b[0m\n\u001b[1;32m    172\u001b[0m \u001b[0;34m\u001b[0m\u001b[0m\n",
      "\u001b[0;32m~/opt/anaconda3/lib/python3.9/hmac.py\u001b[0m in \u001b[0;36m__init__\u001b[0;34m(self, key, msg, digestmod)\u001b[0m\n\u001b[1;32m     51\u001b[0m \u001b[0;34m\u001b[0m\u001b[0m\n\u001b[1;32m     52\u001b[0m         \u001b[0;32mif\u001b[0m \u001b[0;32mnot\u001b[0m \u001b[0misinstance\u001b[0m\u001b[0;34m(\u001b[0m\u001b[0mkey\u001b[0m\u001b[0;34m,\u001b[0m \u001b[0;34m(\u001b[0m\u001b[0mbytes\u001b[0m\u001b[0;34m,\u001b[0m \u001b[0mbytearray\u001b[0m\u001b[0;34m)\u001b[0m\u001b[0;34m)\u001b[0m\u001b[0;34m:\u001b[0m\u001b[0;34m\u001b[0m\u001b[0;34m\u001b[0m\u001b[0m\n\u001b[0;32m---> 53\u001b[0;31m             \u001b[0;32mraise\u001b[0m \u001b[0mTypeError\u001b[0m\u001b[0;34m(\u001b[0m\u001b[0;34m\"key: expected bytes or bytearray, but got %r\"\u001b[0m \u001b[0;34m%\u001b[0m \u001b[0mtype\u001b[0m\u001b[0;34m(\u001b[0m\u001b[0mkey\u001b[0m\u001b[0;34m)\u001b[0m\u001b[0;34m.\u001b[0m\u001b[0m__name__\u001b[0m\u001b[0;34m)\u001b[0m\u001b[0;34m\u001b[0m\u001b[0;34m\u001b[0m\u001b[0m\n\u001b[0m\u001b[1;32m     54\u001b[0m \u001b[0;34m\u001b[0m\u001b[0m\n\u001b[1;32m     55\u001b[0m         \u001b[0;32mif\u001b[0m \u001b[0;32mnot\u001b[0m \u001b[0mdigestmod\u001b[0m\u001b[0;34m:\u001b[0m\u001b[0;34m\u001b[0m\u001b[0;34m\u001b[0m\u001b[0m\n",
      "\u001b[0;31mTypeError\u001b[0m: key: expected bytes or bytearray, but got 'str'"
     ]
    }
   ],
   "source": [
    "from hashlib import sha1\n",
    "import hmac\n",
    "import binascii\n",
    "def getUrl(request):\n",
    "    devId = 3002228\n",
    "    key = '5bef2099-6493-48e4-b344-e37e99530ce6'\n",
    "    request = request + ('&' if ('?' in request) else '?')\n",
    "    raw = request+'devid={0}'.format(devId)\n",
    "    hashed = hmac.new(key, raw, sha1)\n",
    "    signature = hashed.hexdigest()\n",
    "    return 'http://tst.timetableapi.ptv.vic.gov.au'+raw+'&signature={1}'.format(devId, signature)\n",
    "getUrl('/v2/healthcheck')"
   ]
  }
 ],
 "metadata": {
  "kernelspec": {
   "display_name": "Python 3.9.7 ('base')",
   "language": "python",
   "name": "python3"
  },
  "language_info": {
   "codemirror_mode": {
    "name": "ipython",
    "version": 3
   },
   "file_extension": ".py",
   "mimetype": "text/x-python",
   "name": "python",
   "nbconvert_exporter": "python",
   "pygments_lexer": "ipython3",
   "version": "3.9.7"
  },
  "orig_nbformat": 4,
  "vscode": {
   "interpreter": {
    "hash": "d1e7dfa373d7903744c503ef55fd7294a1d9938d2fabb734498f49571dc8aad8"
   }
  }
 },
 "nbformat": 4,
 "nbformat_minor": 2
}
