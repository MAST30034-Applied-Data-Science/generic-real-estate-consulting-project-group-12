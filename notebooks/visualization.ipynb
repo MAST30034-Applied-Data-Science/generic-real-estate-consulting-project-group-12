{
 "cells": [
  {
   "cell_type": "code",
   "execution_count": 3,
   "metadata": {},
   "outputs": [],
   "source": [
    "import folium\n",
    "import geopandas as gpd\n",
    "import numpy as np\n",
    "import scipy as sp\n",
    "import pandas as pd\n",
    "import seaborn as sns\n",
    "import matplotlib.pyplot as plt\n",
    "from statsmodels.formula.api import ols\n",
    "pd.options.mode.chained_assignment = None"
   ]
  },
  {
   "cell_type": "code",
   "execution_count": 16,
   "metadata": {},
   "outputs": [],
   "source": [
    "info = pd.read_csv('data/house rent.csv')"
   ]
  },
  {
   "cell_type": "code",
   "execution_count": 17,
   "metadata": {},
   "outputs": [],
   "source": [
    "info = info[['postcode','rent']]"
   ]
  },
  {
   "cell_type": "code",
   "execution_count": 18,
   "metadata": {},
   "outputs": [],
   "source": [
    "rent_region = info.groupby('postcode')['rent'].sum()/info['postcode'].value_counts().sort_index()\n",
    "rent_region = pd.DataFrame({'postcode':rent_region.index,'rent_region':rent_region})"
   ]
  },
  {
   "cell_type": "code",
   "execution_count": 19,
   "metadata": {},
   "outputs": [],
   "source": [
    "count_region = info['postcode'].value_counts().sort_index()\n",
    "count_region = pd.DataFrame({'postcode':count_region.index,'count':count_region})"
   ]
  },
  {
   "cell_type": "code",
   "execution_count": 20,
   "metadata": {},
   "outputs": [],
   "source": [
    "df2 =  gpd.read_file(\"VMADMIN/POSTCODE_POLYGON.shp\")"
   ]
  },
  {
   "cell_type": "code",
   "execution_count": 21,
   "metadata": {},
   "outputs": [
    {
     "data": {
      "text/plain": [
       "694"
      ]
     },
     "execution_count": 21,
     "metadata": {},
     "output_type": "execute_result"
    }
   ],
   "source": [
    "len(df2)"
   ]
  },
  {
   "cell_type": "code",
   "execution_count": 22,
   "metadata": {},
   "outputs": [],
   "source": [
    "df2 = df2[['POSTCODE','geometry']]"
   ]
  },
  {
   "cell_type": "code",
   "execution_count": 23,
   "metadata": {},
   "outputs": [],
   "source": [
    "df2['POSTCODE'] = df2['POSTCODE'].astype(np.int64)"
   ]
  },
  {
   "cell_type": "code",
   "execution_count": 24,
   "metadata": {},
   "outputs": [],
   "source": [
    "gdf2 = gpd.GeoDataFrame(\n",
    "    df2\n",
    ")"
   ]
  },
  {
   "cell_type": "code",
   "execution_count": 25,
   "metadata": {},
   "outputs": [],
   "source": [
    "gdf2 = gdf2.sort_values(\"POSTCODE\")\n"
   ]
  },
  {
   "cell_type": "code",
   "execution_count": 363,
   "metadata": {},
   "outputs": [],
   "source": [
    "geoJSON = gdf2[['POSTCODE','geometry']].to_json()"
   ]
  },
  {
   "cell_type": "code",
   "execution_count": 27,
   "metadata": {},
   "outputs": [],
   "source": [
    "map2 = folium.Map(location=[-37.8136, 144.963], tiles=\"Stamen Terrain\", zoom_start=10)"
   ]
  },
  {
   "cell_type": "code",
   "execution_count": 28,
   "metadata": {},
   "outputs": [
    {
     "data": {
      "text/plain": [
       "<folium.features.Choropleth at 0x207e0cc5730>"
      ]
     },
     "execution_count": 28,
     "metadata": {},
     "output_type": "execute_result"
    }
   ],
   "source": [
    "c = folium.Choropleth(\n",
    "    geo_data=geoJSON, # geoJSON \n",
    "    name='choropleth', # name of plot\n",
    "    data=count_region, # data source\n",
    "    columns=['postcode','count'], # the columns required\n",
    "    key_on='properties.POSTCODE',\n",
    "    fill_color='YlOrRd', # color scheme\n",
    "    nan_fill_color='black',\n",
    "    legend_name='rent'\n",
    ")\n",
    "\n",
    "c.add_to(map2)"
   ]
  },
  {
   "cell_type": "code",
   "execution_count": 30,
   "metadata": {},
   "outputs": [],
   "source": [
    "map2.save('count.html')"
   ]
  },
  {
   "cell_type": "code",
   "execution_count": 31,
   "metadata": {},
   "outputs": [
    {
     "data": {
      "text/plain": [
       "postcode    int64\n",
       "count       int64\n",
       "dtype: object"
      ]
     },
     "execution_count": 31,
     "metadata": {},
     "output_type": "execute_result"
    }
   ],
   "source": [
    "count_region.dtypes"
   ]
  },
  {
   "cell_type": "code",
   "execution_count": 32,
   "metadata": {},
   "outputs": [],
   "source": [
    "#90-100%\n",
    "count_region.loc[count_region['count'] != 0,'count_level'] = 5\n",
    "#80-90%\n",
    "count_region.loc[count_region['count'] < 587,'count_level'] = 4\n",
    "#70-80%\n",
    "count_region.loc[count_region['count'] < 332,'count_level'] = 3\n",
    "#60-70%\n",
    "count_region.loc[count_region['count'] < 216.5,'count_level'] = 2\n",
    "#0-50%\n",
    "count_region.loc[count_region['count'] < 50,'count_level'] = 1"
   ]
  },
  {
   "cell_type": "code",
   "execution_count": 34,
   "metadata": {},
   "outputs": [],
   "source": [
    "map3 = folium.Map(location=[-37.8136, 144.963], tiles=\"Stamen Terrain\", zoom_start=10)"
   ]
  },
  {
   "cell_type": "code",
   "execution_count": 35,
   "metadata": {},
   "outputs": [
    {
     "data": {
      "text/plain": [
       "<folium.features.Choropleth at 0x207e95dc5b0>"
      ]
     },
     "execution_count": 35,
     "metadata": {},
     "output_type": "execute_result"
    }
   ],
   "source": [
    "c = folium.Choropleth(\n",
    "    geo_data=geoJSON, # geoJSON \n",
    "    name='choropleth', # name of plot\n",
    "    data=count_region, # data source\n",
    "    columns=['postcode','count_level'], # the columns required\n",
    "    key_on='properties.POSTCODE',\n",
    "    fill_color='YlOrRd', # color scheme\n",
    "    nan_fill_color='black',\n",
    "    legend_name='rent',\n",
    "    bin = 5\n",
    ")\n",
    "\n",
    "c.add_to(map3)"
   ]
  },
  {
   "cell_type": "code",
   "execution_count": 36,
   "metadata": {},
   "outputs": [],
   "source": [
    "map3.save('count_level.html')"
   ]
  },
  {
   "cell_type": "code",
   "execution_count": 37,
   "metadata": {},
   "outputs": [],
   "source": [
    "school = pd.read_csv('data/school.csv')"
   ]
  },
  {
   "cell_type": "code",
   "execution_count": 38,
   "metadata": {},
   "outputs": [],
   "source": [
    "for i in range(len(school)):\n",
    "    folium.Marker(\n",
    "        location=[school['Y'][i],school['X'][i]],\n",
    "        popup='<i>Mt. Hood Meadows</i>'\n",
    "    ).add_to(map3)"
   ]
  },
  {
   "cell_type": "code",
   "execution_count": 39,
   "metadata": {},
   "outputs": [],
   "source": [
    "map3.save('school.html')"
   ]
  },
  {
   "cell_type": "code",
   "execution_count": 40,
   "metadata": {},
   "outputs": [
    {
     "data": {
      "text/plain": [
       "<folium.features.Choropleth at 0x207e7ef4a00>"
      ]
     },
     "execution_count": 40,
     "metadata": {},
     "output_type": "execute_result"
    }
   ],
   "source": [
    "map4 = folium.Map(location=[-37.8136, 144.963], tiles=\"Stamen Terrain\", zoom_start=10)\n",
    "c = folium.Choropleth(\n",
    "    geo_data=geoJSON, # geoJSON \n",
    "    name='choropleth', # name of plot\n",
    "    data=count_region, # data source\n",
    "    columns=['postcode','count_level'], # the columns required\n",
    "    key_on='properties.POSTCODE',\n",
    "    fill_color='YlOrRd', # color scheme\n",
    "    nan_fill_color='black',\n",
    "    legend_name='rent',\n",
    "    bin = 5\n",
    ")\n",
    "\n",
    "c.add_to(map4)"
   ]
  },
  {
   "cell_type": "code",
   "execution_count": 44,
   "metadata": {},
   "outputs": [
    {
     "data": {
      "text/plain": [
       "<folium.features.Choropleth at 0x207f9bdd820>"
      ]
     },
     "execution_count": 44,
     "metadata": {},
     "output_type": "execute_result"
    }
   ],
   "source": [
    "map5 = folium.Map(location=[-37.8136, 144.963], tiles=\"Stamen Terrain\", zoom_start=10)\n",
    "c = folium.Choropleth(\n",
    "    geo_data=geoJSON, # geoJSON \n",
    "    name='choropleth', # name of plot\n",
    "    data=count_region, # data source\n",
    "    columns=['postcode','count_level'], # the columns required\n",
    "    key_on='properties.POSTCODE',\n",
    "    fill_color='YlOrRd', # color scheme\n",
    "    nan_fill_color='black',\n",
    "    legend_name='rent',\n",
    "    bin = 5\n",
    ")\n",
    "\n",
    "c.add_to(map5)"
   ]
  },
  {
   "cell_type": "code",
   "execution_count": 49,
   "metadata": {},
   "outputs": [
    {
     "data": {
      "text/plain": [
       "571.6363636363636"
      ]
     },
     "execution_count": 49,
     "metadata": {},
     "output_type": "execute_result"
    }
   ],
   "source": [
    "np.percentile(rent_region['rent_region'],80)"
   ]
  },
  {
   "cell_type": "code",
   "execution_count": 50,
   "metadata": {},
   "outputs": [],
   "source": [
    "#80-100%\n",
    "rent_region.loc[rent_region['rent_region'] != 0,'rent_region_level'] = 5\n",
    "#60-80%\n",
    "rent_region.loc[rent_region['rent_region'] < 571,'rent_region_level'] = 4\n",
    "#40-60%\n",
    "rent_region.loc[rent_region['rent_region'] < 380,'rent_region_level'] = 3\n",
    "#20-40%\n",
    "rent_region.loc[rent_region['rent_region'] < 308,'rent_region_level'] = 2\n",
    "#0-20%\n",
    "rent_region.loc[rent_region['rent_region'] < 240,'rent_region_level'] = 1"
   ]
  },
  {
   "cell_type": "code",
   "execution_count": 51,
   "metadata": {},
   "outputs": [],
   "source": [
    "map7 = folium.Map(location=[-37.8136, 144.963], tiles=\"Stamen Terrain\", zoom_start=10)\n",
    "c = folium.Choropleth(\n",
    "    geo_data=geoJSON, # geoJSON \n",
    "    name='choropleth', # name of plot\n",
    "    data=rent_region, # data source\n",
    "    columns=['postcode','rent_region_level'], # the columns required\n",
    "    key_on='properties.POSTCODE',\n",
    "    fill_color='YlOrRd', # color scheme\n",
    "    nan_fill_color='black',\n",
    "    legend_name='rent',\n",
    "    bin = 5\n",
    ").add_to(map7)\n",
    "\n"
   ]
  },
  {
   "cell_type": "code",
   "execution_count": 52,
   "metadata": {},
   "outputs": [],
   "source": [
    "map7.save('rent_level.html')"
   ]
  },
  {
   "cell_type": "code",
   "execution_count": 369,
   "metadata": {},
   "outputs": [],
   "source": [
    "top10 = pd.read_csv('top_ten.csv')"
   ]
  },
  {
   "cell_type": "code",
   "execution_count": 370,
   "metadata": {},
   "outputs": [],
   "source": [
    "map8 = folium.Map(location=[-37.8136, 144.963], tiles=\"Stamen Terrain\", zoom_start=9)\n",
    "c = folium.Choropleth(\n",
    "    geo_data=geoJSON, # geoJSON \n",
    "    name='choropleth', # name of plot\n",
    "    data=top10, # data source\n",
    "    columns=['postcode','year 2024'], # the columns required\n",
    "    key_on='properties.POSTCODE',\n",
    "    fill_color='RdPu',\n",
    "    legend_name='rent',\n",
    "    fill_opacity=0.8,\n",
    "    nan_fill_opacity=0,\n",
    "    line_opacity=0.2\n",
    ").add_to(map8)"
   ]
  },
  {
   "cell_type": "code",
   "execution_count": 372,
   "metadata": {},
   "outputs": [
    {
     "data": {
      "text/plain": [
       "<folium.map.Marker at 0x20a1a4d01c0>"
      ]
     },
     "execution_count": 372,
     "metadata": {},
     "output_type": "execute_result"
    }
   ],
   "source": [
    "folium.Marker(\n",
    "        location=[-37.838898, 144.991035],\n",
    "        popup='3141'\n",
    "    ).add_to(map8)"
   ]
  },
  {
   "cell_type": "code",
   "execution_count": 373,
   "metadata": {},
   "outputs": [
    {
     "data": {
      "text/plain": [
       "<folium.map.Marker at 0x20a80cd9310>"
      ]
     },
     "execution_count": 373,
     "metadata": {},
     "output_type": "execute_result"
    }
   ],
   "source": [
    "folium.Marker(\n",
    "        location=[-36.553872, 142.454054],\n",
    "        popup='3390'\n",
    "    ).add_to(map8)"
   ]
  },
  {
   "cell_type": "code",
   "execution_count": 374,
   "metadata": {},
   "outputs": [
    {
     "data": {
      "text/plain": [
       "<folium.map.Marker at 0x20a80a651c0>"
      ]
     },
     "execution_count": 374,
     "metadata": {},
     "output_type": "execute_result"
    }
   ],
   "source": [
    "folium.Marker(\n",
    "        location=[-37.632211, 145.080141],\n",
    "        popup='3752'\n",
    "    ).add_to(map8)"
   ]
  },
  {
   "cell_type": "code",
   "execution_count": 375,
   "metadata": {},
   "outputs": [
    {
     "data": {
      "text/plain": [
       "<folium.map.Marker at 0x20a80cd90d0>"
      ]
     },
     "execution_count": 375,
     "metadata": {},
     "output_type": "execute_result"
    }
   ],
   "source": [
    "folium.Marker(\n",
    "        location=[-38.460416, 146.356670],\n",
    "        popup='3870'\n",
    "    ).add_to(map8)"
   ]
  },
  {
   "cell_type": "code",
   "execution_count": 376,
   "metadata": {},
   "outputs": [
    {
     "data": {
      "text/plain": [
       "<folium.map.Marker at 0x20a0e1f1970>"
      ]
     },
     "execution_count": 376,
     "metadata": {},
     "output_type": "execute_result"
    }
   ],
   "source": [
    "folium.Marker(\n",
    "        location=[-37.880137, 144.984642],\n",
    "        popup='3184'\n",
    "    ).add_to(map8)"
   ]
  },
  {
   "cell_type": "code",
   "execution_count": 377,
   "metadata": {},
   "outputs": [
    {
     "data": {
      "text/plain": [
       "<folium.map.Marker at 0x20a1a4d0880>"
      ]
     },
     "execution_count": 377,
     "metadata": {},
     "output_type": "execute_result"
    }
   ],
   "source": [
    "folium.Marker(\n",
    "        location=[-37.842076, 145.018193],\n",
    "        popup='3142'\n",
    "    ).add_to(map8)"
   ]
  },
  {
   "cell_type": "code",
   "execution_count": 378,
   "metadata": {},
   "outputs": [
    {
     "data": {
      "text/plain": [
       "<folium.map.Marker at 0x2099d93fd90>"
      ]
     },
     "execution_count": 378,
     "metadata": {},
     "output_type": "execute_result"
    }
   ],
   "source": [
    "folium.Marker(\n",
    "        location=[-37.862545, 144.979221],\n",
    "        popup='3182'\n",
    "    ).add_to(map8)"
   ]
  },
  {
   "cell_type": "code",
   "execution_count": 379,
   "metadata": {},
   "outputs": [
    {
     "data": {
      "text/plain": [
       "<folium.map.Marker at 0x20a1a4d02b0>"
      ]
     },
     "execution_count": 379,
     "metadata": {},
     "output_type": "execute_result"
    }
   ],
   "source": [
    "folium.Marker(\n",
    "        location=[-35.183880, 143.335286],\n",
    "        popup='3595'\n",
    "    ).add_to(map8)"
   ]
  },
  {
   "cell_type": "code",
   "execution_count": 380,
   "metadata": {},
   "outputs": [
    {
     "data": {
      "text/plain": [
       "<folium.map.Marker at 0x20aec9100d0>"
      ]
     },
     "execution_count": 380,
     "metadata": {},
     "output_type": "execute_result"
    }
   ],
   "source": [
    "folium.Marker(\n",
    "        location=[-37.825564, 145.030370],\n",
    "        popup='3122'\n",
    "    ).add_to(map8)"
   ]
  },
  {
   "cell_type": "code",
   "execution_count": 381,
   "metadata": {},
   "outputs": [
    {
     "data": {
      "text/plain": [
       "<folium.map.Marker at 0x20aec910250>"
      ]
     },
     "execution_count": 381,
     "metadata": {},
     "output_type": "execute_result"
    }
   ],
   "source": [
    "folium.Marker(\n",
    "        location=[-37.886253, 145.005277],\n",
    "        popup='3185'\n",
    "    ).add_to(map8)"
   ]
  },
  {
   "cell_type": "code",
   "execution_count": 175,
   "metadata": {},
   "outputs": [],
   "source": [
    "map8.save('top10.html')"
   ]
  },
  {
   "cell_type": "code",
   "execution_count": 269,
   "metadata": {},
   "outputs": [],
   "source": [
    "df3  = gpd.read_file('suburb/SSC_2016_AUST.shp')"
   ]
  },
  {
   "cell_type": "code",
   "execution_count": 263,
   "metadata": {},
   "outputs": [],
   "source": [
    "live = pd.read_csv('livable.csv')"
   ]
  },
  {
   "cell_type": "code",
   "execution_count": 252,
   "metadata": {},
   "outputs": [],
   "source": [
    "df3 = df3[df3['STATE_NAME'] == 'Victoria'].reset_index()"
   ]
  },
  {
   "cell_type": "code",
   "execution_count": 256,
   "metadata": {},
   "outputs": [],
   "source": [
    "for i in range(0,len(df3)):\n",
    "    df3['SSC_NAME'][i] = df3['SSC_NAME'][i].lower()"
   ]
  },
  {
   "cell_type": "code",
   "execution_count": 258,
   "metadata": {},
   "outputs": [],
   "source": [
    "gdf3 = gpd.GeoDataFrame(\n",
    "    df3\n",
    ")"
   ]
  },
  {
   "cell_type": "code",
   "execution_count": 339,
   "metadata": {},
   "outputs": [],
   "source": [
    "geoJSON = gdf3[['SSC_NAME','geometry']].to_json()"
   ]
  },
  {
   "cell_type": "code",
   "execution_count": 358,
   "metadata": {},
   "outputs": [],
   "source": [
    "map10 = folium.Map(location=[-37.8136, 144.963], tiles=\"Stamen Terrain\", zoom_start=10)"
   ]
  },
  {
   "cell_type": "code",
   "execution_count": 359,
   "metadata": {},
   "outputs": [
    {
     "data": {
      "text/plain": [
       "<folium.features.Choropleth at 0x20a68d57700>"
      ]
     },
     "execution_count": 359,
     "metadata": {},
     "output_type": "execute_result"
    }
   ],
   "source": [
    "c = folium.Choropleth(\n",
    "    geo_data=geoJSON, # geoJSON \n",
    "    name='choropleth', # name of plot\n",
    "    data=live, # data source\n",
    "    columns=['suburb','livable_index'], # the columns required\n",
    "    key_on='properties.SSC_NAME', \n",
    "    nan_fill_color='white',\n",
    "    fill_color='RdPu',\n",
    "    legend_name='rent',\n",
    "    fill_opacity=0.8,\n",
    "    nan_fill_opacity=0,\n",
    "    line_opacity=0\n",
    ")\n",
    "\n",
    "c.add_to(map10)"
   ]
  },
  {
   "cell_type": "code",
   "execution_count": 283,
   "metadata": {},
   "outputs": [],
   "source": [
    "map10.save('live.html')"
   ]
  }
 ],
 "metadata": {
  "kernelspec": {
   "display_name": "Python 3.9.2 64-bit",
   "language": "python",
   "name": "python3"
  },
  "language_info": {
   "codemirror_mode": {
    "name": "ipython",
    "version": 3
   },
   "file_extension": ".py",
   "mimetype": "text/x-python",
   "name": "python",
   "nbconvert_exporter": "python",
   "pygments_lexer": "ipython3",
   "version": "3.9.2"
  },
  "orig_nbformat": 4,
  "vscode": {
   "interpreter": {
    "hash": "f4c019a45beb6de43204c8f6a051931db149db6186e05a6be77253b751934e5a"
   }
  }
 },
 "nbformat": 4,
 "nbformat_minor": 2
}
