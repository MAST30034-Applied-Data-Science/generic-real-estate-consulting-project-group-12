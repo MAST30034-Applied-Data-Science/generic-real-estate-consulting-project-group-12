{
 "cells": [
  {
   "cell_type": "code",
   "execution_count": null,
   "metadata": {},
   "outputs": [],
   "source": [
    "from hashlib import sha1\n",
    "import hmac\n",
    "import binascii\n",
    "def getUrl(request):\n",
    "    devId = 3002228\n",
    "    key = '5bef2099-6493-48e4-b344-e37e99530ce6'\n",
    "    request = request + ('&' if ('?' in request) else '?')\n",
    "    raw = request+'devid={0}'.format(devId)\n",
    "    #print(raw.encode())\n",
    "    key_bin = key.encode()\n",
    "    raw_bin = raw.encode() \n",
    "    hashed = hmac.new(key_bin, raw_bin, sha1)\n",
    "    signature = hashed.hexdigest()\n",
    "    return 'http://timetableapi.ptv.vic.gov.au'+raw+'&signature={1}'.format(devId, signature)\n",
    "#print(getUrl('/v3/route_types'))\n",
    "\n",
    "\n",
    "import requests\n",
    "import json\n",
    "def download_get(url_name,file_path):\n",
    "    url_str = getUrl(url_name)\n",
    "    print(url_str)\n",
    "    response = requests.get(url= url_str)\n",
    "    print(response.status_code)\n",
    "    print(response.text)\n",
    "    with open(file_path,'w') as f:\n",
    "        f.write(response.text)\n",
    "def download_get_to_dict(url_name):\n",
    "    url_str = getUrl(url_name)\n",
    "    print(url_str)\n",
    "    response = requests.get(url= url_str)\n",
    "    print(response.status_code)\n",
    "    print(response.text)\n",
    "    return json.loads(response.text)\n",
    "\n",
    "#download_get('/v3/route_types','/Users/chunhua/tmp_share/heyonglin/route_types.json')\n",
    "#download_get('/v3/routes','/Users/heyonglin/routes.json')\n",
    "\n",
    "routes_json_file = '/Users/heyonglin/route/routes.json'\n",
    "# routes_json_file = '../data/routes.json'\n",
    "with open(routes_json_file) as f:\n",
    "    route_dict = json.load(f)\n",
    "    # print(route_dict.keys())\n",
    "    stops_files = [open(f'/Users/heyonglin/route/stops_file_{i}.json','a')  for i in range(5)]\n",
    "    for stop_file in stops_files:\n",
    "        stop_file.write('[\\n')\n",
    "    is_first_line = [True,True,True,True,True]\n",
    "    for route_item in route_dict['routes']:\n",
    "        route_id = route_item['route_id']\n",
    "        route_type = route_item['route_type']\n",
    "        url_name = f'/v3/stops/route/{route_id}/route_type/{route_type}'\n",
    "        res = download_get_to_dict(url_name)\n",
    "        stops = res['stops']\n",
    "        for stop in stops:\n",
    "            if not is_first_line[route_type]:\n",
    "                stops_files[route_type].write(',\\n')\n",
    "            json.dump(stop,stops_files[route_type])\n",
    "            is_first_line[route_type] = False\n",
    "    \n",
    "    for stop_file in stops_files:\n",
    "        stop_file.write('\\n]')\n",
    "        stop_file.close()    "
   ]
  }
 ],
 "metadata": {
  "kernelspec": {
   "display_name": "Python 3.9.7 ('base')",
   "language": "python",
   "name": "python3"
  },
  "language_info": {
   "codemirror_mode": {
    "name": "ipython",
    "version": 3
   },
   "file_extension": ".py",
   "mimetype": "text/x-python",
   "name": "python",
   "nbconvert_exporter": "python",
   "pygments_lexer": "ipython3",
   "version": "3.9.7"
  },
  "orig_nbformat": 4,
  "vscode": {
   "interpreter": {
    "hash": "d1e7dfa373d7903744c503ef55fd7294a1d9938d2fabb734498f49571dc8aad8"
   }
  }
 },
 "nbformat": 4,
 "nbformat_minor": 2
}
