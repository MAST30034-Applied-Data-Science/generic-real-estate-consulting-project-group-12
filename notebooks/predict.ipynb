{
 "cells": [
  {
   "cell_type": "code",
   "execution_count": 1,
   "id": "146d4d7c-bb3d-4f2b-9ad7-b288de95a47d",
   "metadata": {},
   "outputs": [],
   "source": [
    "import numpy as np\n",
    "import pandas as pd"
   ]
  },
  {
   "cell_type": "code",
   "execution_count": 2,
   "id": "608f883c-17c0-413b-822c-131f8c1771ea",
   "metadata": {},
   "outputs": [],
   "source": [
    "df = pd.read_csv('cleaned_complete.csv')"
   ]
  },
  {
   "cell_type": "code",
   "execution_count": 4,
   "id": "41469491-59b7-42f3-a52f-6d0f828a7c0e",
   "metadata": {
    "tags": []
   },
   "outputs": [
    {
     "data": {
      "text/html": [
       "<div>\n",
       "<style scoped>\n",
       "    .dataframe tbody tr th:only-of-type {\n",
       "        vertical-align: middle;\n",
       "    }\n",
       "\n",
       "    .dataframe tbody tr th {\n",
       "        vertical-align: top;\n",
       "    }\n",
       "\n",
       "    .dataframe thead th {\n",
       "        text-align: right;\n",
       "    }\n",
       "</style>\n",
       "<table border=\"1\" class=\"dataframe\">\n",
       "  <thead>\n",
       "    <tr style=\"text-align: right;\">\n",
       "      <th></th>\n",
       "      <th>Unnamed: 0.1</th>\n",
       "      <th>Unnamed: 0</th>\n",
       "      <th>index</th>\n",
       "      <th>propertyTypes</th>\n",
       "      <th>bathrooms</th>\n",
       "      <th>bedrooms</th>\n",
       "      <th>carspaces</th>\n",
       "      <th>dateUpdated</th>\n",
       "      <th>dateListed</th>\n",
       "      <th>geoLocation</th>\n",
       "      <th>...</th>\n",
       "      <th>Earners (persons)</th>\n",
       "      <th>Median age of earners (years)</th>\n",
       "      <th>Sum ($)</th>\n",
       "      <th>Median ($)</th>\n",
       "      <th>Mean ($)</th>\n",
       "      <th>Male</th>\n",
       "      <th>Female</th>\n",
       "      <th>Person</th>\n",
       "      <th>Male Ratio</th>\n",
       "      <th>Female Ratio</th>\n",
       "    </tr>\n",
       "  </thead>\n",
       "  <tbody>\n",
       "    <tr>\n",
       "      <th>0</th>\n",
       "      <td>0</td>\n",
       "      <td>0</td>\n",
       "      <td>0</td>\n",
       "      <td>['apartmentUnitFlat']</td>\n",
       "      <td>1.0</td>\n",
       "      <td>1.0</td>\n",
       "      <td>0.0</td>\n",
       "      <td>2019-01-09T00:23:18.123Z</td>\n",
       "      <td>2016-02-16T04:33:49Z</td>\n",
       "      <td>{\"latitude\": -37.8341628, \"longitude\": 144.960...</td>\n",
       "      <td>...</td>\n",
       "      <td>NaN</td>\n",
       "      <td>NaN</td>\n",
       "      <td>NaN</td>\n",
       "      <td>NaN</td>\n",
       "      <td>NaN</td>\n",
       "      <td>NaN</td>\n",
       "      <td>NaN</td>\n",
       "      <td>NaN</td>\n",
       "      <td>NaN</td>\n",
       "      <td>NaN</td>\n",
       "    </tr>\n",
       "    <tr>\n",
       "      <th>1</th>\n",
       "      <td>1</td>\n",
       "      <td>1</td>\n",
       "      <td>9</td>\n",
       "      <td>['house']</td>\n",
       "      <td>2.0</td>\n",
       "      <td>2.0</td>\n",
       "      <td>1.0</td>\n",
       "      <td>2019-01-11T17:10:21.69Z</td>\n",
       "      <td>2018-10-24T23:20:07Z</td>\n",
       "      <td>{\"latitude\": -37.8350754, \"longitude\": 144.964...</td>\n",
       "      <td>...</td>\n",
       "      <td>NaN</td>\n",
       "      <td>NaN</td>\n",
       "      <td>NaN</td>\n",
       "      <td>NaN</td>\n",
       "      <td>NaN</td>\n",
       "      <td>NaN</td>\n",
       "      <td>NaN</td>\n",
       "      <td>NaN</td>\n",
       "      <td>NaN</td>\n",
       "      <td>NaN</td>\n",
       "    </tr>\n",
       "    <tr>\n",
       "      <th>2</th>\n",
       "      <td>2</td>\n",
       "      <td>2</td>\n",
       "      <td>10</td>\n",
       "      <td>['apartmentUnitFlat']</td>\n",
       "      <td>1.0</td>\n",
       "      <td>2.0</td>\n",
       "      <td>0.0</td>\n",
       "      <td>2019-01-03T02:02:17.513Z</td>\n",
       "      <td>2018-10-25T00:57:25Z</td>\n",
       "      <td>{\"latitude\": -37.8402171, \"longitude\": 144.960...</td>\n",
       "      <td>...</td>\n",
       "      <td>NaN</td>\n",
       "      <td>NaN</td>\n",
       "      <td>NaN</td>\n",
       "      <td>NaN</td>\n",
       "      <td>NaN</td>\n",
       "      <td>NaN</td>\n",
       "      <td>NaN</td>\n",
       "      <td>NaN</td>\n",
       "      <td>NaN</td>\n",
       "      <td>NaN</td>\n",
       "    </tr>\n",
       "    <tr>\n",
       "      <th>3</th>\n",
       "      <td>3</td>\n",
       "      <td>3</td>\n",
       "      <td>11</td>\n",
       "      <td>['house']</td>\n",
       "      <td>1.0</td>\n",
       "      <td>3.0</td>\n",
       "      <td>0.0</td>\n",
       "      <td>2019-01-03T17:06:05.923Z</td>\n",
       "      <td>2018-10-25T22:30:15Z</td>\n",
       "      <td>{\"latitude\": -37.8366529, \"longitude\": 144.953...</td>\n",
       "      <td>...</td>\n",
       "      <td>NaN</td>\n",
       "      <td>NaN</td>\n",
       "      <td>NaN</td>\n",
       "      <td>NaN</td>\n",
       "      <td>NaN</td>\n",
       "      <td>NaN</td>\n",
       "      <td>NaN</td>\n",
       "      <td>NaN</td>\n",
       "      <td>NaN</td>\n",
       "      <td>NaN</td>\n",
       "    </tr>\n",
       "    <tr>\n",
       "      <th>4</th>\n",
       "      <td>4</td>\n",
       "      <td>4</td>\n",
       "      <td>21</td>\n",
       "      <td>['house']</td>\n",
       "      <td>2.0</td>\n",
       "      <td>2.0</td>\n",
       "      <td>0.0</td>\n",
       "      <td>2019-01-12T17:10:42.533Z</td>\n",
       "      <td>2018-10-31T22:21:33Z</td>\n",
       "      <td>{\"latitude\": -37.8375202, \"longitude\": 144.949...</td>\n",
       "      <td>...</td>\n",
       "      <td>NaN</td>\n",
       "      <td>NaN</td>\n",
       "      <td>NaN</td>\n",
       "      <td>NaN</td>\n",
       "      <td>NaN</td>\n",
       "      <td>NaN</td>\n",
       "      <td>NaN</td>\n",
       "      <td>NaN</td>\n",
       "      <td>NaN</td>\n",
       "      <td>NaN</td>\n",
       "    </tr>\n",
       "    <tr>\n",
       "      <th>...</th>\n",
       "      <td>...</td>\n",
       "      <td>...</td>\n",
       "      <td>...</td>\n",
       "      <td>...</td>\n",
       "      <td>...</td>\n",
       "      <td>...</td>\n",
       "      <td>...</td>\n",
       "      <td>...</td>\n",
       "      <td>...</td>\n",
       "      <td>...</td>\n",
       "      <td>...</td>\n",
       "      <td>...</td>\n",
       "      <td>...</td>\n",
       "      <td>...</td>\n",
       "      <td>...</td>\n",
       "      <td>...</td>\n",
       "      <td>...</td>\n",
       "      <td>...</td>\n",
       "      <td>...</td>\n",
       "      <td>...</td>\n",
       "      <td>...</td>\n",
       "    </tr>\n",
       "    <tr>\n",
       "      <th>100634</th>\n",
       "      <td>114955</td>\n",
       "      <td>114955</td>\n",
       "      <td>116020</td>\n",
       "      <td>['house']</td>\n",
       "      <td>1.0</td>\n",
       "      <td>3.0</td>\n",
       "      <td>1.0</td>\n",
       "      <td>2022-05-02T23:02:33.327Z</td>\n",
       "      <td>2022-04-06T22:38:28Z</td>\n",
       "      <td>{\"latitude\": -36.5365807, \"longitude\": 147.493...</td>\n",
       "      <td>...</td>\n",
       "      <td>3701.919198</td>\n",
       "      <td>52.806122</td>\n",
       "      <td>2.014328e+08</td>\n",
       "      <td>41650.108033</td>\n",
       "      <td>54273.677385</td>\n",
       "      <td>3156.644619</td>\n",
       "      <td>3024.668177</td>\n",
       "      <td>6181.185987</td>\n",
       "      <td>0.510686</td>\n",
       "      <td>0.489335</td>\n",
       "    </tr>\n",
       "    <tr>\n",
       "      <th>100635</th>\n",
       "      <td>114956</td>\n",
       "      <td>114956</td>\n",
       "      <td>116027</td>\n",
       "      <td>['house']</td>\n",
       "      <td>1.0</td>\n",
       "      <td>3.0</td>\n",
       "      <td>1.0</td>\n",
       "      <td>2022-06-28T07:34:34.59Z</td>\n",
       "      <td>2022-05-09T04:58:56Z</td>\n",
       "      <td>{\"latitude\": -36.5361943, \"longitude\": 147.494...</td>\n",
       "      <td>...</td>\n",
       "      <td>3701.919198</td>\n",
       "      <td>52.806122</td>\n",
       "      <td>2.014328e+08</td>\n",
       "      <td>41650.108033</td>\n",
       "      <td>54273.677385</td>\n",
       "      <td>3156.644619</td>\n",
       "      <td>3024.668177</td>\n",
       "      <td>6181.185987</td>\n",
       "      <td>0.510686</td>\n",
       "      <td>0.489335</td>\n",
       "    </tr>\n",
       "    <tr>\n",
       "      <th>100636</th>\n",
       "      <td>114957</td>\n",
       "      <td>114957</td>\n",
       "      <td>116052</td>\n",
       "      <td>['house']</td>\n",
       "      <td>1.0</td>\n",
       "      <td>3.0</td>\n",
       "      <td>2.0</td>\n",
       "      <td>2022-08-31T04:22:36.17Z</td>\n",
       "      <td>2022-08-18T06:04:32Z</td>\n",
       "      <td>{\"latitude\": -36.2218206, \"longitude\": 147.258...</td>\n",
       "      <td>...</td>\n",
       "      <td>3701.919198</td>\n",
       "      <td>52.806122</td>\n",
       "      <td>2.014328e+08</td>\n",
       "      <td>41650.108033</td>\n",
       "      <td>54273.677385</td>\n",
       "      <td>3156.644619</td>\n",
       "      <td>3024.668177</td>\n",
       "      <td>6181.185987</td>\n",
       "      <td>0.510686</td>\n",
       "      <td>0.489335</td>\n",
       "    </tr>\n",
       "    <tr>\n",
       "      <th>100637</th>\n",
       "      <td>114958</td>\n",
       "      <td>114958</td>\n",
       "      <td>116246</td>\n",
       "      <td>['house']</td>\n",
       "      <td>1.0</td>\n",
       "      <td>3.0</td>\n",
       "      <td>2.0</td>\n",
       "      <td>2021-03-09T00:53:53.08Z</td>\n",
       "      <td>2021-02-15T22:36:56Z</td>\n",
       "      <td>{\"latitude\": -36.2147158, \"longitude\": 147.177...</td>\n",
       "      <td>...</td>\n",
       "      <td>3701.919198</td>\n",
       "      <td>52.579590</td>\n",
       "      <td>1.950317e+08</td>\n",
       "      <td>41169.005468</td>\n",
       "      <td>52760.601328</td>\n",
       "      <td>3150.000000</td>\n",
       "      <td>3003.000000</td>\n",
       "      <td>6153.000000</td>\n",
       "      <td>0.511945</td>\n",
       "      <td>0.488055</td>\n",
       "    </tr>\n",
       "    <tr>\n",
       "      <th>100638</th>\n",
       "      <td>114959</td>\n",
       "      <td>114959</td>\n",
       "      <td>115960</td>\n",
       "      <td>['apartmentUnitFlat']</td>\n",
       "      <td>1.0</td>\n",
       "      <td>2.0</td>\n",
       "      <td>1.0</td>\n",
       "      <td>2021-04-06T01:03:00.61Z</td>\n",
       "      <td>2021-03-15T05:36:11Z</td>\n",
       "      <td>{\"latitude\": -36.3618706, \"longitude\": 146.685...</td>\n",
       "      <td>...</td>\n",
       "      <td>2974.289916</td>\n",
       "      <td>51.435350</td>\n",
       "      <td>1.625336e+08</td>\n",
       "      <td>47497.878398</td>\n",
       "      <td>54630.128321</td>\n",
       "      <td>2445.000000</td>\n",
       "      <td>2509.000000</td>\n",
       "      <td>4954.000000</td>\n",
       "      <td>0.493541</td>\n",
       "      <td>0.506459</td>\n",
       "    </tr>\n",
       "  </tbody>\n",
       "</table>\n",
       "<p>100639 rows × 64 columns</p>\n",
       "</div>"
      ],
      "text/plain": [
       "        Unnamed: 0.1  Unnamed: 0   index          propertyTypes  bathrooms  \\\n",
       "0                  0           0       0  ['apartmentUnitFlat']        1.0   \n",
       "1                  1           1       9              ['house']        2.0   \n",
       "2                  2           2      10  ['apartmentUnitFlat']        1.0   \n",
       "3                  3           3      11              ['house']        1.0   \n",
       "4                  4           4      21              ['house']        2.0   \n",
       "...              ...         ...     ...                    ...        ...   \n",
       "100634        114955      114955  116020              ['house']        1.0   \n",
       "100635        114956      114956  116027              ['house']        1.0   \n",
       "100636        114957      114957  116052              ['house']        1.0   \n",
       "100637        114958      114958  116246              ['house']        1.0   \n",
       "100638        114959      114959  115960  ['apartmentUnitFlat']        1.0   \n",
       "\n",
       "        bedrooms  carspaces               dateUpdated            dateListed  \\\n",
       "0            1.0        0.0  2019-01-09T00:23:18.123Z  2016-02-16T04:33:49Z   \n",
       "1            2.0        1.0   2019-01-11T17:10:21.69Z  2018-10-24T23:20:07Z   \n",
       "2            2.0        0.0  2019-01-03T02:02:17.513Z  2018-10-25T00:57:25Z   \n",
       "3            3.0        0.0  2019-01-03T17:06:05.923Z  2018-10-25T22:30:15Z   \n",
       "4            2.0        0.0  2019-01-12T17:10:42.533Z  2018-10-31T22:21:33Z   \n",
       "...          ...        ...                       ...                   ...   \n",
       "100634       3.0        1.0  2022-05-02T23:02:33.327Z  2022-04-06T22:38:28Z   \n",
       "100635       3.0        1.0   2022-06-28T07:34:34.59Z  2022-05-09T04:58:56Z   \n",
       "100636       3.0        2.0   2022-08-31T04:22:36.17Z  2022-08-18T06:04:32Z   \n",
       "100637       3.0        2.0   2021-03-09T00:53:53.08Z  2021-02-15T22:36:56Z   \n",
       "100638       2.0        1.0   2021-04-06T01:03:00.61Z  2021-03-15T05:36:11Z   \n",
       "\n",
       "                                              geoLocation  ...  \\\n",
       "0       {\"latitude\": -37.8341628, \"longitude\": 144.960...  ...   \n",
       "1       {\"latitude\": -37.8350754, \"longitude\": 144.964...  ...   \n",
       "2       {\"latitude\": -37.8402171, \"longitude\": 144.960...  ...   \n",
       "3       {\"latitude\": -37.8366529, \"longitude\": 144.953...  ...   \n",
       "4       {\"latitude\": -37.8375202, \"longitude\": 144.949...  ...   \n",
       "...                                                   ...  ...   \n",
       "100634  {\"latitude\": -36.5365807, \"longitude\": 147.493...  ...   \n",
       "100635  {\"latitude\": -36.5361943, \"longitude\": 147.494...  ...   \n",
       "100636  {\"latitude\": -36.2218206, \"longitude\": 147.258...  ...   \n",
       "100637  {\"latitude\": -36.2147158, \"longitude\": 147.177...  ...   \n",
       "100638  {\"latitude\": -36.3618706, \"longitude\": 146.685...  ...   \n",
       "\n",
       "        Earners (persons)  Median age of earners (years)       Sum ($)  \\\n",
       "0                     NaN                            NaN           NaN   \n",
       "1                     NaN                            NaN           NaN   \n",
       "2                     NaN                            NaN           NaN   \n",
       "3                     NaN                            NaN           NaN   \n",
       "4                     NaN                            NaN           NaN   \n",
       "...                   ...                            ...           ...   \n",
       "100634        3701.919198                      52.806122  2.014328e+08   \n",
       "100635        3701.919198                      52.806122  2.014328e+08   \n",
       "100636        3701.919198                      52.806122  2.014328e+08   \n",
       "100637        3701.919198                      52.579590  1.950317e+08   \n",
       "100638        2974.289916                      51.435350  1.625336e+08   \n",
       "\n",
       "          Median ($)      Mean ($)         Male       Female       Person  \\\n",
       "0                NaN           NaN          NaN          NaN          NaN   \n",
       "1                NaN           NaN          NaN          NaN          NaN   \n",
       "2                NaN           NaN          NaN          NaN          NaN   \n",
       "3                NaN           NaN          NaN          NaN          NaN   \n",
       "4                NaN           NaN          NaN          NaN          NaN   \n",
       "...              ...           ...          ...          ...          ...   \n",
       "100634  41650.108033  54273.677385  3156.644619  3024.668177  6181.185987   \n",
       "100635  41650.108033  54273.677385  3156.644619  3024.668177  6181.185987   \n",
       "100636  41650.108033  54273.677385  3156.644619  3024.668177  6181.185987   \n",
       "100637  41169.005468  52760.601328  3150.000000  3003.000000  6153.000000   \n",
       "100638  47497.878398  54630.128321  2445.000000  2509.000000  4954.000000   \n",
       "\n",
       "        Male Ratio  Female Ratio  \n",
       "0              NaN           NaN  \n",
       "1              NaN           NaN  \n",
       "2              NaN           NaN  \n",
       "3              NaN           NaN  \n",
       "4              NaN           NaN  \n",
       "...            ...           ...  \n",
       "100634    0.510686      0.489335  \n",
       "100635    0.510686      0.489335  \n",
       "100636    0.510686      0.489335  \n",
       "100637    0.511945      0.488055  \n",
       "100638    0.493541      0.506459  \n",
       "\n",
       "[100639 rows x 64 columns]"
      ]
     },
     "execution_count": 4,
     "metadata": {},
     "output_type": "execute_result"
    }
   ],
   "source": [
    "df"
   ]
  },
  {
   "cell_type": "code",
   "execution_count": 5,
   "id": "702a2fe8-b1c1-4750-8be4-9ed5ff715314",
   "metadata": {},
   "outputs": [
    {
     "data": {
      "text/plain": [
       "Index(['Unnamed: 0.1', 'Unnamed: 0', 'index', 'propertyTypes', 'bathrooms',\n",
       "       'bedrooms', 'carspaces', 'dateUpdated', 'dateListed', 'geoLocation',\n",
       "       'landAreaSqm', 'postcode', 'surburb', 'year', 'month', 'price', 'bond',\n",
       "       'rent', 'longitude', 'latitude', 'geometry', 'index_right',\n",
       "       'SA2_maincode_2021', 'distance of the closest bus stop',\n",
       "       'count of bus stop', 'distance of the closest train stop',\n",
       "       'count of train stop', 'distance of the closest tram stop',\n",
       "       'count of tram stop', 'distance of the closest vline stop',\n",
       "       'count of vline stop', 'distance of the closest school',\n",
       "       'count of school', 'count of hospital',\n",
       "       'distance to the closest shopping mall', 'count of shopping mall',\n",
       "       'bench', 'cafe', 'childcare', 'fast_food', 'kindergarten', 'parking',\n",
       "       'restaurant', 'place_of_worship', 'school', 'university', 'garden',\n",
       "       'park', 'playground', 'pitch', 'offence count', 'incidents recorded',\n",
       "       'Population ', 'Population Increase', 'Earners (persons)',\n",
       "       'Median age of earners (years)', 'Sum ($)', 'Median ($)', 'Mean ($)',\n",
       "       'Male', 'Female', 'Person', 'Male Ratio', 'Female Ratio'],\n",
       "      dtype='object')"
      ]
     },
     "execution_count": 5,
     "metadata": {},
     "output_type": "execute_result"
    }
   ],
   "source": [
    "df.columns"
   ]
  },
  {
   "cell_type": "code",
   "execution_count": 6,
   "id": "7f2ab6aa-f52a-492c-9590-e3264b835d73",
   "metadata": {},
   "outputs": [
    {
     "name": "stderr",
     "output_type": "stream",
     "text": [
      "D:\\anaconda3\\lib\\site-packages\\xgboost\\compat.py:36: FutureWarning: pandas.Int64Index is deprecated and will be removed from pandas in a future version. Use pandas.Index with the appropriate dtype instead.\n",
      "  from pandas import MultiIndex, Int64Index\n"
     ]
    }
   ],
   "source": [
    "import xgboost as xgb"
   ]
  },
  {
   "cell_type": "code",
   "execution_count": 46,
   "id": "e97d74f1-bd3b-4e07-935b-78570e152fb3",
   "metadata": {},
   "outputs": [],
   "source": [
    "X = df.loc[:,['bathrooms',\n",
    "       'bedrooms', 'carspaces', 'year',\n",
    "       'count of bus stop', \n",
    "       'count of train stop',\n",
    "       'count of tram stop', \n",
    "       'count of vline stop',\n",
    "       'count of school', 'count of hospital', 'count of shopping mall',\n",
    "       'bench', 'cafe', 'childcare', 'fast_food', 'kindergarten', 'parking',\n",
    "       'restaurant', 'place_of_worship', 'school', 'university', 'garden']]"
   ]
  },
  {
   "cell_type": "code",
   "execution_count": 47,
   "id": "e4a4913e-3033-4603-8973-a5bb27be12b9",
   "metadata": {},
   "outputs": [],
   "source": [
    "y = df.loc[:, ['Median ($)']]"
   ]
  },
  {
   "cell_type": "markdown",
   "id": "f08e6be4-3d44-4432-985c-fe9633980c59",
   "metadata": {},
   "source": [
    "## dropping the missing values"
   ]
  },
  {
   "cell_type": "code",
   "execution_count": 50,
   "id": "f449eda2-e0f3-4038-bba3-3bbeff2846a5",
   "metadata": {},
   "outputs": [],
   "source": [
    "mask = y.dropna().index\n",
    "\n",
    "y0 = y.dropna()"
   ]
  },
  {
   "cell_type": "code",
   "execution_count": 51,
   "id": "bf11ae00-00b9-44e3-a65c-37e798d502e1",
   "metadata": {},
   "outputs": [],
   "source": [
    "X0 = X.loc[mask]"
   ]
  },
  {
   "cell_type": "code",
   "execution_count": 58,
   "id": "85defb05-12ef-406b-a0e0-0410eac5e04d",
   "metadata": {},
   "outputs": [],
   "source": [
    "from sklearn.model_selection import train_test_split\n",
    "from sklearn.metrics import mean_squared_error\n",
    "\n",
    "X_train, X_test, y_train, y_test = train_test_split(X0, y0, test_size=0.2, random_state=123)"
   ]
  },
  {
   "cell_type": "code",
   "execution_count": 53,
   "id": "190919e3-4322-41a7-9c73-9f414287f337",
   "metadata": {},
   "outputs": [],
   "source": [
    "xg_reg = xgb.XGBRegressor(objective ='reg:linear', colsample_bytree = 0.3, learning_rate = 0.1,\n",
    "                max_depth = 5, alpha = 10, n_estimators = 10)"
   ]
  },
  {
   "cell_type": "code",
   "execution_count": 55,
   "id": "575c9934-0d40-4bbc-9fe1-e4960ac69dc2",
   "metadata": {},
   "outputs": [
    {
     "name": "stdout",
     "output_type": "stream",
     "text": [
      "[08:55:01] WARNING: c:\\ci\\xgboost-split_1638290375667\\work\\src\\objective\\regression_obj.cu:188: reg:linear is now deprecated in favor of reg:squarederror.\n"
     ]
    }
   ],
   "source": [
    "xg_reg.fit(X_train,y_train)\n",
    "\n",
    "preds = xg_reg.predict(X_test)"
   ]
  },
  {
   "cell_type": "code",
   "execution_count": 56,
   "id": "ee7fa3f9-1000-4c6e-acd3-1f773d7a81eb",
   "metadata": {},
   "outputs": [
    {
     "data": {
      "text/plain": [
       "array([37031.863, 35252.527, 36194.05 , ..., 32535.861, 45057.285,\n",
       "       38598.324], dtype=float32)"
      ]
     },
     "execution_count": 56,
     "metadata": {},
     "output_type": "execute_result"
    }
   ],
   "source": [
    "preds"
   ]
  },
  {
   "cell_type": "code",
   "execution_count": 59,
   "id": "0f40f333-dd7f-4707-af69-b60033c170ca",
   "metadata": {},
   "outputs": [
    {
     "name": "stdout",
     "output_type": "stream",
     "text": [
      "RMSE: 21461.770361\n"
     ]
    }
   ],
   "source": [
    "rmse = np.sqrt(mean_squared_error(y_test, preds))\n",
    "print(\"RMSE: %f\" % (rmse))"
   ]
  },
  {
   "cell_type": "code",
   "execution_count": 60,
   "id": "fa17cc16-5e55-4172-b752-e8c9237f754e",
   "metadata": {},
   "outputs": [],
   "source": [
    "import matplotlib.pyplot as plt"
   ]
  },
  {
   "cell_type": "code",
   "execution_count": 66,
   "id": "f802cb89-7170-480b-870b-1307b458de53",
   "metadata": {},
   "outputs": [
    {
     "data": {
      "text/plain": [
       "12645"
      ]
     },
     "execution_count": 66,
     "metadata": {},
     "output_type": "execute_result"
    }
   ],
   "source": [
    "len(preds)"
   ]
  },
  {
   "cell_type": "code",
   "execution_count": 64,
   "id": "016e0165-d361-4adf-a69b-d406c7866c8d",
   "metadata": {},
   "outputs": [
    {
     "data": {
      "text/html": [
       "<div>\n",
       "<style scoped>\n",
       "    .dataframe tbody tr th:only-of-type {\n",
       "        vertical-align: middle;\n",
       "    }\n",
       "\n",
       "    .dataframe tbody tr th {\n",
       "        vertical-align: top;\n",
       "    }\n",
       "\n",
       "    .dataframe thead th {\n",
       "        text-align: right;\n",
       "    }\n",
       "</style>\n",
       "<table border=\"1\" class=\"dataframe\">\n",
       "  <thead>\n",
       "    <tr style=\"text-align: right;\">\n",
       "      <th></th>\n",
       "      <th>Median ($)</th>\n",
       "    </tr>\n",
       "  </thead>\n",
       "  <tbody>\n",
       "    <tr>\n",
       "      <th>41181</th>\n",
       "      <td>64139.179783</td>\n",
       "    </tr>\n",
       "    <tr>\n",
       "      <th>94308</th>\n",
       "      <td>50308.049013</td>\n",
       "    </tr>\n",
       "    <tr>\n",
       "      <th>79146</th>\n",
       "      <td>49364.302300</td>\n",
       "    </tr>\n",
       "    <tr>\n",
       "      <th>87123</th>\n",
       "      <td>68879.949392</td>\n",
       "    </tr>\n",
       "    <tr>\n",
       "      <th>57767</th>\n",
       "      <td>42673.868649</td>\n",
       "    </tr>\n",
       "    <tr>\n",
       "      <th>...</th>\n",
       "      <td>...</td>\n",
       "    </tr>\n",
       "    <tr>\n",
       "      <th>98517</th>\n",
       "      <td>48944.567351</td>\n",
       "    </tr>\n",
       "    <tr>\n",
       "      <th>29820</th>\n",
       "      <td>62129.895751</td>\n",
       "    </tr>\n",
       "    <tr>\n",
       "      <th>46634</th>\n",
       "      <td>42849.630901</td>\n",
       "    </tr>\n",
       "    <tr>\n",
       "      <th>27815</th>\n",
       "      <td>57277.846892</td>\n",
       "    </tr>\n",
       "    <tr>\n",
       "      <th>87514</th>\n",
       "      <td>49710.789249</td>\n",
       "    </tr>\n",
       "  </tbody>\n",
       "</table>\n",
       "<p>50576 rows × 1 columns</p>\n",
       "</div>"
      ],
      "text/plain": [
       "         Median ($)\n",
       "41181  64139.179783\n",
       "94308  50308.049013\n",
       "79146  49364.302300\n",
       "87123  68879.949392\n",
       "57767  42673.868649\n",
       "...             ...\n",
       "98517  48944.567351\n",
       "29820  62129.895751\n",
       "46634  42849.630901\n",
       "27815  57277.846892\n",
       "87514  49710.789249\n",
       "\n",
       "[50576 rows x 1 columns]"
      ]
     },
     "execution_count": 64,
     "metadata": {},
     "output_type": "execute_result"
    }
   ],
   "source": [
    "y_train"
   ]
  },
  {
   "cell_type": "code",
   "execution_count": 72,
   "id": "f4feba69-f7a2-4c2f-862a-eb886057e22f",
   "metadata": {},
   "outputs": [
    {
     "data": {
      "text/plain": [
       "<matplotlib.lines._AxLine at 0x247542291c0>"
      ]
     },
     "execution_count": 72,
     "metadata": {},
     "output_type": "execute_result"
    },
    {
     "data": {
      "image/png": "[encoded data removed]",
      "text/plain": [
       "<Figure size 432x288 with 1 Axes>"
      ]
     },
     "metadata": {
      "needs_background": "light"
     },
     "output_type": "display_data"
    }
   ],
   "source": [
    "plt.scatter(y_test, preds)\n",
    "plt.axline((40000,40000), slope = 1, color= 'black', linestyle = '--')"
   ]
  },
  {
   "cell_type": "code",
   "execution_count": 76,
   "id": "687b68f5-4c9d-4593-9a35-51bb19715b1a",
   "metadata": {},
   "outputs": [
    {
     "name": "stdout",
     "output_type": "stream",
     "text": [
      "RMSE: 21500.735158\n"
     ]
    }
   ],
   "source": [
    "predX = xg_reg.predict(X_train)\n",
    "rmse = np.sqrt(mean_squared_error(y_train, predX))\n",
    "print(\"RMSE: %f\" % (rmse))"
   ]
  },
  {
   "cell_type": "code",
   "execution_count": 74,
   "id": "76ce5779-734d-4a98-a655-2f1f5aa42448",
   "metadata": {},
   "outputs": [
    {
     "data": {
      "text/plain": [
       "<matplotlib.lines._AxLine at 0x24754299940>"
      ]
     },
     "execution_count": 74,
     "metadata": {},
     "output_type": "execute_result"
    },
    {
     "data": {
      "image/png": "[encoded data removed]",
      "text/plain": [
       "<Figure size 432x288 with 1 Axes>"
      ]
     },
     "metadata": {
      "needs_background": "light"
     },
     "output_type": "display_data"
    }
   ],
   "source": [
    "plt.scatter(y_train, predX)\n",
    "plt.axline((40000,40000), slope = 1, color= 'black', linestyle = '--')"
   ]
  },
  {
   "cell_type": "code",
   "execution_count": null,
   "id": "b4b8a57f-22dc-416e-a604-bb516b08e865",
   "metadata": {},
   "outputs": [],
   "source": []
  }
 ],
 "metadata": {
  "kernelspec": {
   "display_name": "Python 3 (ipykernel)",
   "language": "python",
   "name": "python3"
  },
  "language_info": {
   "codemirror_mode": {
    "name": "ipython",
    "version": 3
   },
   "file_extension": ".py",
   "mimetype": "text/x-python",
   "name": "python",
   "nbconvert_exporter": "python",
   "pygments_lexer": "ipython3",
   "version": "3.8.2"
  }
 },
 "nbformat": 4,
 "nbformat_minor": 5
}
