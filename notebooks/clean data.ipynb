{
 "cells": [
  {
   "cell_type": "code",
   "execution_count": 1,
   "metadata": {},
   "outputs": [],
   "source": [
    "import numpy as np\n",
    "import pandas as pd\n",
    "import matplotlib.pyplot as plt"
   ]
  },
  {
   "cell_type": "code",
   "execution_count": 4,
   "metadata": {},
   "outputs": [],
   "source": [
    "data = pd.read_csv('../data/curated/merge_data_v2.csv')"
   ]
  },
  {
   "cell_type": "code",
   "execution_count": 187,
   "metadata": {},
   "outputs": [],
   "source": [
    "# delete all the same data\n",
    "data = data.drop_duplicates(subset=None, keep='first', inplace=False)"
   ]
  },
  {
   "cell_type": "code",
   "execution_count": 188,
   "metadata": {},
   "outputs": [
    {
     "name": "stderr",
     "output_type": "stream",
     "text": [
      "<ipython-input-188-94c317ebe493>:3: SettingWithCopyWarning: \n",
      "A value is trying to be set on a copy of a slice from a DataFrame\n",
      "\n",
      "See the caveats in the documentation: https://pandas.pydata.org/pandas-docs/stable/user_guide/indexing.html#returning-a-view-versus-a-copy\n",
      "  data['rent'][i] = float(data['price'][i])\n"
     ]
    }
   ],
   "source": [
    "for i in range(len(data)):\n",
    "    try:\n",
    "        data['rent'][i] = float(data['price'][i])\n",
    "    except ValueError:\n",
    "        None"
   ]
  },
  {
   "cell_type": "code",
   "execution_count": 189,
   "metadata": {},
   "outputs": [],
   "source": [
    "data.dropna(subset=['rent'],inplace=True)"
   ]
  },
  {
   "cell_type": "code",
   "execution_count": 190,
   "metadata": {},
   "outputs": [],
   "source": [
    "# delete all data not in Victoria by postcode(3000-4000, 8000-10000)\n",
    "data = data[((data['postcode'] <= 4000) & (data['postcode'] >= 3000)) | ((data['postcode'] <= 10000) & (data['postcode'] >= 8000))]"
   ]
  },
  {
   "cell_type": "code",
   "execution_count": 191,
   "metadata": {},
   "outputs": [
    {
     "data": {
      "text/plain": [
       "1.0     58391\n",
       "2.0     42673\n",
       "3.0      3710\n",
       "0.0      1239\n",
       "4.0       377\n",
       "5.0        55\n",
       "6.0        14\n",
       "8.0         5\n",
       "12.0        3\n",
       "25.0        1\n",
       "9.0         1\n",
       "32.0        1\n",
       "Name: bathrooms, dtype: int64"
      ]
     },
     "execution_count": 191,
     "metadata": {},
     "output_type": "execute_result"
    }
   ],
   "source": [
    "# check bathroom data\n",
    "data['bathrooms'].value_counts()"
   ]
  },
  {
   "cell_type": "code",
   "execution_count": 192,
   "metadata": {},
   "outputs": [],
   "source": [
    "# delete all data with invalid bathrooms\n",
    "data = data[(data['bathrooms'] <= 10) & (data['bathrooms'] >= 0)]"
   ]
  },
  {
   "cell_type": "code",
   "execution_count": 193,
   "metadata": {},
   "outputs": [
    {
     "data": {
      "text/plain": [
       "2.0     37825\n",
       "3.0     29539\n",
       "1.0     19712\n",
       "4.0     15871\n",
       "5.0      1672\n",
       "0.0      1606\n",
       "6.0       195\n",
       "7.0        25\n",
       "8.0        11\n",
       "9.0         4\n",
       "10.0        3\n",
       "12.0        2\n",
       "Name: bedrooms, dtype: int64"
      ]
     },
     "execution_count": 193,
     "metadata": {},
     "output_type": "execute_result"
    }
   ],
   "source": [
    "# check bedrooms data, we only remain the apartments or houses with bedrooms\n",
    "data['bedrooms'].value_counts()"
   ]
  },
  {
   "cell_type": "code",
   "execution_count": 194,
   "metadata": {},
   "outputs": [],
   "source": [
    "data = data[data['bedrooms'] > 0]"
   ]
  },
  {
   "cell_type": "code",
   "execution_count": 195,
   "metadata": {},
   "outputs": [
    {
     "data": {
      "text/plain": [
       "1.0     47228\n",
       "2.0     32138\n",
       "0.0     20109\n",
       "3.0      2590\n",
       "4.0      2098\n",
       "5.0       273\n",
       "6.0       272\n",
       "7.0        56\n",
       "8.0        52\n",
       "10.0       17\n",
       "9.0         8\n",
       "12.0        4\n",
       "11.0        3\n",
       "20.0        2\n",
       "36.0        2\n",
       "18.0        1\n",
       "13.0        1\n",
       "14.0        1\n",
       "24.0        1\n",
       "22.0        1\n",
       "31.0        1\n",
       "15.0        1\n",
       "Name: carspaces, dtype: int64"
      ]
     },
     "execution_count": 195,
     "metadata": {},
     "output_type": "execute_result"
    }
   ],
   "source": [
    "# check carspaces data\n",
    "data['carspaces'].value_counts()"
   ]
  },
  {
   "cell_type": "code",
   "execution_count": 196,
   "metadata": {},
   "outputs": [],
   "source": [
    "# delete all data with invalid carspaces\n",
    "data = data[(data['carspaces'] <= 10) & (data['carspaces'] >= 0)]"
   ]
  },
  {
   "cell_type": "code",
   "execution_count": 197,
   "metadata": {},
   "outputs": [
    {
     "data": {
      "text/html": [
       "<div>\n",
       "<style scoped>\n",
       "    .dataframe tbody tr th:only-of-type {\n",
       "        vertical-align: middle;\n",
       "    }\n",
       "\n",
       "    .dataframe tbody tr th {\n",
       "        vertical-align: top;\n",
       "    }\n",
       "\n",
       "    .dataframe thead th {\n",
       "        text-align: right;\n",
       "    }\n",
       "</style>\n",
       "<table border=\"1\" class=\"dataframe\">\n",
       "  <thead>\n",
       "    <tr style=\"text-align: right;\">\n",
       "      <th></th>\n",
       "      <th>Unnamed: 0</th>\n",
       "      <th>index</th>\n",
       "      <th>propertyTypes</th>\n",
       "      <th>bathrooms</th>\n",
       "      <th>bedrooms</th>\n",
       "      <th>carspaces</th>\n",
       "      <th>dateUpdated</th>\n",
       "      <th>dateListed</th>\n",
       "      <th>geoLocation</th>\n",
       "      <th>landAreaSqm</th>\n",
       "      <th>...</th>\n",
       "      <th>Earners (persons)</th>\n",
       "      <th>Median age of earners (years)</th>\n",
       "      <th>Sum ($)</th>\n",
       "      <th>Median ($)</th>\n",
       "      <th>Mean ($)</th>\n",
       "      <th>Male</th>\n",
       "      <th>Female</th>\n",
       "      <th>Person</th>\n",
       "      <th>Male Ratio</th>\n",
       "      <th>Female Ratio</th>\n",
       "    </tr>\n",
       "  </thead>\n",
       "  <tbody>\n",
       "    <tr>\n",
       "      <th>0</th>\n",
       "      <td>0</td>\n",
       "      <td>0</td>\n",
       "      <td>['apartmentUnitFlat']</td>\n",
       "      <td>1.0</td>\n",
       "      <td>1.0</td>\n",
       "      <td>0.0</td>\n",
       "      <td>2019-01-09T00:23:18.123Z</td>\n",
       "      <td>2016-02-16T04:33:49Z</td>\n",
       "      <td>{\"latitude\": -37.8341628, \"longitude\": 144.960...</td>\n",
       "      <td>NaN</td>\n",
       "      <td>...</td>\n",
       "      <td>NaN</td>\n",
       "      <td>NaN</td>\n",
       "      <td>NaN</td>\n",
       "      <td>NaN</td>\n",
       "      <td>NaN</td>\n",
       "      <td>NaN</td>\n",
       "      <td>NaN</td>\n",
       "      <td>NaN</td>\n",
       "      <td>NaN</td>\n",
       "      <td>NaN</td>\n",
       "    </tr>\n",
       "    <tr>\n",
       "      <th>1</th>\n",
       "      <td>1</td>\n",
       "      <td>9</td>\n",
       "      <td>['house']</td>\n",
       "      <td>2.0</td>\n",
       "      <td>2.0</td>\n",
       "      <td>1.0</td>\n",
       "      <td>2019-01-11T17:10:21.69Z</td>\n",
       "      <td>2018-10-24T23:20:07Z</td>\n",
       "      <td>{\"latitude\": -37.8350754, \"longitude\": 144.964...</td>\n",
       "      <td>NaN</td>\n",
       "      <td>...</td>\n",
       "      <td>NaN</td>\n",
       "      <td>NaN</td>\n",
       "      <td>NaN</td>\n",
       "      <td>NaN</td>\n",
       "      <td>NaN</td>\n",
       "      <td>NaN</td>\n",
       "      <td>NaN</td>\n",
       "      <td>NaN</td>\n",
       "      <td>NaN</td>\n",
       "      <td>NaN</td>\n",
       "    </tr>\n",
       "    <tr>\n",
       "      <th>2</th>\n",
       "      <td>2</td>\n",
       "      <td>10</td>\n",
       "      <td>['apartmentUnitFlat']</td>\n",
       "      <td>1.0</td>\n",
       "      <td>2.0</td>\n",
       "      <td>0.0</td>\n",
       "      <td>2019-01-03T02:02:17.513Z</td>\n",
       "      <td>2018-10-25T00:57:25Z</td>\n",
       "      <td>{\"latitude\": -37.8402171, \"longitude\": 144.960...</td>\n",
       "      <td>NaN</td>\n",
       "      <td>...</td>\n",
       "      <td>NaN</td>\n",
       "      <td>NaN</td>\n",
       "      <td>NaN</td>\n",
       "      <td>NaN</td>\n",
       "      <td>NaN</td>\n",
       "      <td>NaN</td>\n",
       "      <td>NaN</td>\n",
       "      <td>NaN</td>\n",
       "      <td>NaN</td>\n",
       "      <td>NaN</td>\n",
       "    </tr>\n",
       "    <tr>\n",
       "      <th>3</th>\n",
       "      <td>3</td>\n",
       "      <td>11</td>\n",
       "      <td>['house']</td>\n",
       "      <td>1.0</td>\n",
       "      <td>3.0</td>\n",
       "      <td>0.0</td>\n",
       "      <td>2019-01-03T17:06:05.923Z</td>\n",
       "      <td>2018-10-25T22:30:15Z</td>\n",
       "      <td>{\"latitude\": -37.8366529, \"longitude\": 144.953...</td>\n",
       "      <td>NaN</td>\n",
       "      <td>...</td>\n",
       "      <td>NaN</td>\n",
       "      <td>NaN</td>\n",
       "      <td>NaN</td>\n",
       "      <td>NaN</td>\n",
       "      <td>NaN</td>\n",
       "      <td>NaN</td>\n",
       "      <td>NaN</td>\n",
       "      <td>NaN</td>\n",
       "      <td>NaN</td>\n",
       "      <td>NaN</td>\n",
       "    </tr>\n",
       "    <tr>\n",
       "      <th>4</th>\n",
       "      <td>4</td>\n",
       "      <td>21</td>\n",
       "      <td>['house']</td>\n",
       "      <td>2.0</td>\n",
       "      <td>2.0</td>\n",
       "      <td>0.0</td>\n",
       "      <td>2019-01-12T17:10:42.533Z</td>\n",
       "      <td>2018-10-31T22:21:33Z</td>\n",
       "      <td>{\"latitude\": -37.8375202, \"longitude\": 144.949...</td>\n",
       "      <td>NaN</td>\n",
       "      <td>...</td>\n",
       "      <td>NaN</td>\n",
       "      <td>NaN</td>\n",
       "      <td>NaN</td>\n",
       "      <td>NaN</td>\n",
       "      <td>NaN</td>\n",
       "      <td>NaN</td>\n",
       "      <td>NaN</td>\n",
       "      <td>NaN</td>\n",
       "      <td>NaN</td>\n",
       "      <td>NaN</td>\n",
       "    </tr>\n",
       "    <tr>\n",
       "      <th>...</th>\n",
       "      <td>...</td>\n",
       "      <td>...</td>\n",
       "      <td>...</td>\n",
       "      <td>...</td>\n",
       "      <td>...</td>\n",
       "      <td>...</td>\n",
       "      <td>...</td>\n",
       "      <td>...</td>\n",
       "      <td>...</td>\n",
       "      <td>...</td>\n",
       "      <td>...</td>\n",
       "      <td>...</td>\n",
       "      <td>...</td>\n",
       "      <td>...</td>\n",
       "      <td>...</td>\n",
       "      <td>...</td>\n",
       "      <td>...</td>\n",
       "      <td>...</td>\n",
       "      <td>...</td>\n",
       "      <td>...</td>\n",
       "      <td>...</td>\n",
       "    </tr>\n",
       "    <tr>\n",
       "      <th>114955</th>\n",
       "      <td>114955</td>\n",
       "      <td>116020</td>\n",
       "      <td>['house']</td>\n",
       "      <td>1.0</td>\n",
       "      <td>3.0</td>\n",
       "      <td>1.0</td>\n",
       "      <td>2022-05-02T23:02:33.327Z</td>\n",
       "      <td>2022-04-06T22:38:28Z</td>\n",
       "      <td>{\"latitude\": -36.5365807, \"longitude\": 147.493...</td>\n",
       "      <td>NaN</td>\n",
       "      <td>...</td>\n",
       "      <td>3701.919198</td>\n",
       "      <td>52.806122</td>\n",
       "      <td>2.014328e+08</td>\n",
       "      <td>41650.108033</td>\n",
       "      <td>54273.677385</td>\n",
       "      <td>3156.644619</td>\n",
       "      <td>3024.668177</td>\n",
       "      <td>6181.185987</td>\n",
       "      <td>0.510686</td>\n",
       "      <td>0.489335</td>\n",
       "    </tr>\n",
       "    <tr>\n",
       "      <th>114956</th>\n",
       "      <td>114956</td>\n",
       "      <td>116027</td>\n",
       "      <td>['house']</td>\n",
       "      <td>1.0</td>\n",
       "      <td>3.0</td>\n",
       "      <td>1.0</td>\n",
       "      <td>2022-06-28T07:34:34.59Z</td>\n",
       "      <td>2022-05-09T04:58:56Z</td>\n",
       "      <td>{\"latitude\": -36.5361943, \"longitude\": 147.494...</td>\n",
       "      <td>NaN</td>\n",
       "      <td>...</td>\n",
       "      <td>3701.919198</td>\n",
       "      <td>52.806122</td>\n",
       "      <td>2.014328e+08</td>\n",
       "      <td>41650.108033</td>\n",
       "      <td>54273.677385</td>\n",
       "      <td>3156.644619</td>\n",
       "      <td>3024.668177</td>\n",
       "      <td>6181.185987</td>\n",
       "      <td>0.510686</td>\n",
       "      <td>0.489335</td>\n",
       "    </tr>\n",
       "    <tr>\n",
       "      <th>114957</th>\n",
       "      <td>114957</td>\n",
       "      <td>116052</td>\n",
       "      <td>['house']</td>\n",
       "      <td>1.0</td>\n",
       "      <td>3.0</td>\n",
       "      <td>2.0</td>\n",
       "      <td>2022-08-31T04:22:36.17Z</td>\n",
       "      <td>2022-08-18T06:04:32Z</td>\n",
       "      <td>{\"latitude\": -36.2218206, \"longitude\": 147.258...</td>\n",
       "      <td>NaN</td>\n",
       "      <td>...</td>\n",
       "      <td>3701.919198</td>\n",
       "      <td>52.806122</td>\n",
       "      <td>2.014328e+08</td>\n",
       "      <td>41650.108033</td>\n",
       "      <td>54273.677385</td>\n",
       "      <td>3156.644619</td>\n",
       "      <td>3024.668177</td>\n",
       "      <td>6181.185987</td>\n",
       "      <td>0.510686</td>\n",
       "      <td>0.489335</td>\n",
       "    </tr>\n",
       "    <tr>\n",
       "      <th>114958</th>\n",
       "      <td>114958</td>\n",
       "      <td>116246</td>\n",
       "      <td>['house']</td>\n",
       "      <td>1.0</td>\n",
       "      <td>3.0</td>\n",
       "      <td>2.0</td>\n",
       "      <td>2021-03-09T00:53:53.08Z</td>\n",
       "      <td>2021-02-15T22:36:56Z</td>\n",
       "      <td>{\"latitude\": -36.2147158, \"longitude\": 147.177...</td>\n",
       "      <td>NaN</td>\n",
       "      <td>...</td>\n",
       "      <td>3701.919198</td>\n",
       "      <td>52.579590</td>\n",
       "      <td>1.950317e+08</td>\n",
       "      <td>41169.005468</td>\n",
       "      <td>52760.601328</td>\n",
       "      <td>3150.000000</td>\n",
       "      <td>3003.000000</td>\n",
       "      <td>6153.000000</td>\n",
       "      <td>0.511945</td>\n",
       "      <td>0.488055</td>\n",
       "    </tr>\n",
       "    <tr>\n",
       "      <th>114959</th>\n",
       "      <td>114959</td>\n",
       "      <td>115960</td>\n",
       "      <td>['apartmentUnitFlat']</td>\n",
       "      <td>1.0</td>\n",
       "      <td>2.0</td>\n",
       "      <td>1.0</td>\n",
       "      <td>2021-04-06T01:03:00.61Z</td>\n",
       "      <td>2021-03-15T05:36:11Z</td>\n",
       "      <td>{\"latitude\": -36.3618706, \"longitude\": 146.685...</td>\n",
       "      <td>NaN</td>\n",
       "      <td>...</td>\n",
       "      <td>2974.289916</td>\n",
       "      <td>51.435350</td>\n",
       "      <td>1.625336e+08</td>\n",
       "      <td>47497.878398</td>\n",
       "      <td>54630.128321</td>\n",
       "      <td>2445.000000</td>\n",
       "      <td>2509.000000</td>\n",
       "      <td>4954.000000</td>\n",
       "      <td>0.493541</td>\n",
       "      <td>0.506459</td>\n",
       "    </tr>\n",
       "  </tbody>\n",
       "</table>\n",
       "<p>104841 rows × 63 columns</p>\n",
       "</div>"
      ],
      "text/plain": [
       "        Unnamed: 0   index          propertyTypes  bathrooms  bedrooms  \\\n",
       "0                0       0  ['apartmentUnitFlat']        1.0       1.0   \n",
       "1                1       9              ['house']        2.0       2.0   \n",
       "2                2      10  ['apartmentUnitFlat']        1.0       2.0   \n",
       "3                3      11              ['house']        1.0       3.0   \n",
       "4                4      21              ['house']        2.0       2.0   \n",
       "...            ...     ...                    ...        ...       ...   \n",
       "114955      114955  116020              ['house']        1.0       3.0   \n",
       "114956      114956  116027              ['house']        1.0       3.0   \n",
       "114957      114957  116052              ['house']        1.0       3.0   \n",
       "114958      114958  116246              ['house']        1.0       3.0   \n",
       "114959      114959  115960  ['apartmentUnitFlat']        1.0       2.0   \n",
       "\n",
       "        carspaces               dateUpdated            dateListed  \\\n",
       "0             0.0  2019-01-09T00:23:18.123Z  2016-02-16T04:33:49Z   \n",
       "1             1.0   2019-01-11T17:10:21.69Z  2018-10-24T23:20:07Z   \n",
       "2             0.0  2019-01-03T02:02:17.513Z  2018-10-25T00:57:25Z   \n",
       "3             0.0  2019-01-03T17:06:05.923Z  2018-10-25T22:30:15Z   \n",
       "4             0.0  2019-01-12T17:10:42.533Z  2018-10-31T22:21:33Z   \n",
       "...           ...                       ...                   ...   \n",
       "114955        1.0  2022-05-02T23:02:33.327Z  2022-04-06T22:38:28Z   \n",
       "114956        1.0   2022-06-28T07:34:34.59Z  2022-05-09T04:58:56Z   \n",
       "114957        2.0   2022-08-31T04:22:36.17Z  2022-08-18T06:04:32Z   \n",
       "114958        2.0   2021-03-09T00:53:53.08Z  2021-02-15T22:36:56Z   \n",
       "114959        1.0   2021-04-06T01:03:00.61Z  2021-03-15T05:36:11Z   \n",
       "\n",
       "                                              geoLocation  landAreaSqm  ...  \\\n",
       "0       {\"latitude\": -37.8341628, \"longitude\": 144.960...          NaN  ...   \n",
       "1       {\"latitude\": -37.8350754, \"longitude\": 144.964...          NaN  ...   \n",
       "2       {\"latitude\": -37.8402171, \"longitude\": 144.960...          NaN  ...   \n",
       "3       {\"latitude\": -37.8366529, \"longitude\": 144.953...          NaN  ...   \n",
       "4       {\"latitude\": -37.8375202, \"longitude\": 144.949...          NaN  ...   \n",
       "...                                                   ...          ...  ...   \n",
       "114955  {\"latitude\": -36.5365807, \"longitude\": 147.493...          NaN  ...   \n",
       "114956  {\"latitude\": -36.5361943, \"longitude\": 147.494...          NaN  ...   \n",
       "114957  {\"latitude\": -36.2218206, \"longitude\": 147.258...          NaN  ...   \n",
       "114958  {\"latitude\": -36.2147158, \"longitude\": 147.177...          NaN  ...   \n",
       "114959  {\"latitude\": -36.3618706, \"longitude\": 146.685...          NaN  ...   \n",
       "\n",
       "        Earners (persons) Median age of earners (years)       Sum ($)  \\\n",
       "0                     NaN                           NaN           NaN   \n",
       "1                     NaN                           NaN           NaN   \n",
       "2                     NaN                           NaN           NaN   \n",
       "3                     NaN                           NaN           NaN   \n",
       "4                     NaN                           NaN           NaN   \n",
       "...                   ...                           ...           ...   \n",
       "114955        3701.919198                     52.806122  2.014328e+08   \n",
       "114956        3701.919198                     52.806122  2.014328e+08   \n",
       "114957        3701.919198                     52.806122  2.014328e+08   \n",
       "114958        3701.919198                     52.579590  1.950317e+08   \n",
       "114959        2974.289916                     51.435350  1.625336e+08   \n",
       "\n",
       "          Median ($)      Mean ($)         Male       Female       Person  \\\n",
       "0                NaN           NaN          NaN          NaN          NaN   \n",
       "1                NaN           NaN          NaN          NaN          NaN   \n",
       "2                NaN           NaN          NaN          NaN          NaN   \n",
       "3                NaN           NaN          NaN          NaN          NaN   \n",
       "4                NaN           NaN          NaN          NaN          NaN   \n",
       "...              ...           ...          ...          ...          ...   \n",
       "114955  41650.108033  54273.677385  3156.644619  3024.668177  6181.185987   \n",
       "114956  41650.108033  54273.677385  3156.644619  3024.668177  6181.185987   \n",
       "114957  41650.108033  54273.677385  3156.644619  3024.668177  6181.185987   \n",
       "114958  41169.005468  52760.601328  3150.000000  3003.000000  6153.000000   \n",
       "114959  47497.878398  54630.128321  2445.000000  2509.000000  4954.000000   \n",
       "\n",
       "        Male Ratio Female Ratio  \n",
       "0              NaN          NaN  \n",
       "1              NaN          NaN  \n",
       "2              NaN          NaN  \n",
       "3              NaN          NaN  \n",
       "4              NaN          NaN  \n",
       "...            ...          ...  \n",
       "114955    0.510686     0.489335  \n",
       "114956    0.510686     0.489335  \n",
       "114957    0.510686     0.489335  \n",
       "114958    0.511945     0.488055  \n",
       "114959    0.493541     0.506459  \n",
       "\n",
       "[104841 rows x 63 columns]"
      ]
     },
     "execution_count": 197,
     "metadata": {},
     "output_type": "execute_result"
    }
   ],
   "source": [
    "data"
   ]
  },
  {
   "cell_type": "code",
   "execution_count": 198,
   "metadata": {},
   "outputs": [],
   "source": [
    "Q1 = data['bedrooms'].quantile(0.25)\n",
    "Q3 = data['bedrooms'].quantile(0.75)\n",
    "IQR = Q3-Q1\n",
    "data = data[(data['bedrooms'] > (Q1 - 3*IQR)) & (data['bedrooms'] < (Q3 + 3*IQR))]\n"
   ]
  },
  {
   "cell_type": "code",
   "execution_count": 199,
   "metadata": {},
   "outputs": [],
   "source": [
    "Q1 = data['bathrooms'].quantile(0.25)\n",
    "Q3 = data['bathrooms'].quantile(0.75)\n",
    "IQR = Q3-Q1\n",
    "data = data[(data['bathrooms'] > (Q1 - 3*IQR)) & (data['bathrooms'] < (Q3 + 3*IQR))]"
   ]
  },
  {
   "cell_type": "code",
   "execution_count": 200,
   "metadata": {},
   "outputs": [],
   "source": [
    "Q1 = data['carspaces'].quantile(0.25)\n",
    "Q3 = data['carspaces'].quantile(0.75)\n",
    "IQR = Q3-Q1\n",
    "data = data[(data['carspaces'] > (Q1 - 3*IQR)) & (data['carspaces'] < (Q3 + 3*IQR))]"
   ]
  },
  {
   "cell_type": "code",
   "execution_count": 201,
   "metadata": {},
   "outputs": [],
   "source": [
    "Q1 = data['rent'].quantile(0.25)\n",
    "Q3 = data['rent'].quantile(0.75)\n",
    "IQR = Q3-Q1\n",
    "data = data[(data['rent'] > (Q1 - 3*IQR)) & (data['rent'] < (Q3 + 3*IQR))]"
   ]
  },
  {
   "cell_type": "code",
   "execution_count": 202,
   "metadata": {},
   "outputs": [
    {
     "data": {
      "text/plain": [
       "{'whiskers': [<matplotlib.lines.Line2D at 0x214a68ce280>,\n",
       "  <matplotlib.lines.Line2D at 0x214a68ce610>],\n",
       " 'caps': [<matplotlib.lines.Line2D at 0x214a68ce9a0>,\n",
       "  <matplotlib.lines.Line2D at 0x214a68ced30>],\n",
       " 'boxes': [<matplotlib.lines.Line2D at 0x214a68c8eb0>],\n",
       " 'medians': [<matplotlib.lines.Line2D at 0x214a68d1100>],\n",
       " 'fliers': [<matplotlib.lines.Line2D at 0x214a68d1490>],\n",
       " 'means': []}"
      ]
     },
     "execution_count": 202,
     "metadata": {},
     "output_type": "execute_result"
    },
    {
     "data": {
      "image/png": "[encoded data removed]",
      "text/plain": [
       "<Figure size 432x288 with 1 Axes>"
      ]
     },
     "metadata": {
      "needs_background": "light"
     },
     "output_type": "display_data"
    }
   ],
   "source": [
    "plt.boxplot(data['bedrooms'])"
   ]
  },
  {
   "cell_type": "code",
   "execution_count": 203,
   "metadata": {},
   "outputs": [
    {
     "data": {
      "text/plain": [
       "{'whiskers': [<matplotlib.lines.Line2D at 0x214a66b67f0>,\n",
       "  <matplotlib.lines.Line2D at 0x214a66b6b80>],\n",
       " 'caps': [<matplotlib.lines.Line2D at 0x214a66b6f10>,\n",
       "  <matplotlib.lines.Line2D at 0x214a66bf2e0>],\n",
       " 'boxes': [<matplotlib.lines.Line2D at 0x214a66b63a0>],\n",
       " 'medians': [<matplotlib.lines.Line2D at 0x214a66bf670>],\n",
       " 'fliers': [<matplotlib.lines.Line2D at 0x214a66bfa00>],\n",
       " 'means': []}"
      ]
     },
     "execution_count": 203,
     "metadata": {},
     "output_type": "execute_result"
    },
    {
     "data": {
      "image/png": "[encoded data removed]",
      "text/plain": [
       "<Figure size 432x288 with 1 Axes>"
      ]
     },
     "metadata": {
      "needs_background": "light"
     },
     "output_type": "display_data"
    }
   ],
   "source": [
    "plt.boxplot(data['bathrooms'])"
   ]
  },
  {
   "cell_type": "code",
   "execution_count": 204,
   "metadata": {},
   "outputs": [
    {
     "data": {
      "text/plain": [
       "{'whiskers': [<matplotlib.lines.Line2D at 0x214a670c370>,\n",
       "  <matplotlib.lines.Line2D at 0x214a670c700>],\n",
       " 'caps': [<matplotlib.lines.Line2D at 0x214a670ca90>,\n",
       "  <matplotlib.lines.Line2D at 0x214a670ce20>],\n",
       " 'boxes': [<matplotlib.lines.Line2D at 0x214a6702f70>],\n",
       " 'medians': [<matplotlib.lines.Line2D at 0x214a67111f0>],\n",
       " 'fliers': [<matplotlib.lines.Line2D at 0x214a6711580>],\n",
       " 'means': []}"
      ]
     },
     "execution_count": 204,
     "metadata": {},
     "output_type": "execute_result"
    },
    {
     "data": {
      "image/png": "[encoded data removed]",
      "text/plain": [
       "<Figure size 432x288 with 1 Axes>"
      ]
     },
     "metadata": {
      "needs_background": "light"
     },
     "output_type": "display_data"
    }
   ],
   "source": [
    "plt.boxplot(data['carspaces'])"
   ]
  },
  {
   "cell_type": "code",
   "execution_count": 206,
   "metadata": {},
   "outputs": [],
   "source": [
    "data.to_csv('cleaned_complete.csv')"
   ]
  }
 ],
 "metadata": {
  "kernelspec": {
   "display_name": "Python 3.9.0 64-bit",
   "language": "python",
   "name": "python3"
  },
  "language_info": {
   "codemirror_mode": {
    "name": "ipython",
    "version": 3
   },
   "file_extension": ".py",
   "mimetype": "text/x-python",
   "name": "python",
   "nbconvert_exporter": "python",
   "pygments_lexer": "ipython3",
   "version": "3.9.0"
  },
  "orig_nbformat": 4,
  "vscode": {
   "interpreter": {
    "hash": "aee8b7b246df8f9039afb4144a1f6fd8d2ca17a180786b69acc140d282b71a49"
   }
  }
 },
 "nbformat": 4,
 "nbformat_minor": 2
}
