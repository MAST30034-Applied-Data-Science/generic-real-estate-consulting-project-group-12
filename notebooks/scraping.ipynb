{
 "cells": [
  {
   "cell_type": "code",
   "execution_count": 65,
   "metadata": {},
   "outputs": [],
   "source": [
    "import re\n",
    "from json import dump\n",
    "import requests\n",
    "\n",
    "from collections import defaultdict\n",
    "\n",
    "# user packages\n",
    "from bs4 import BeautifulSoup\n",
    "from urllib.request import urlopen\n",
    "headers = {\"User-Agent\": \"Mozilla/5.0 (X11; CrOS x86_64 12871.102.0) AppleWebKit/537.36 (KHTML, like Gecko) Chrome/81.0.4044.141 Safari/537.36\"}\n",
    "\n",
    "# constants\n",
    "BASE_URL = \"https://www.domain.com.au\"\n",
    "N_PAGES = range(1, 51) # update this to your liking\n",
    "\n",
    "# begin code\n",
    "url_links = []\n",
    "property_metadata = defaultdict(dict)\n",
    "\n",
    "# generate list of urls to visit\n",
    "for page in N_PAGES:\n",
    "    url = BASE_URL + f\"/rent/melbourne-region-vic/?sort=price-desc&page={page}\"\n",
    "    bs_object = BeautifulSoup(requests.get(\n",
    "    url, headers=headers).text, \"html.parser\")\n",
    "\n",
    "    # find the unordered list (ul) elements which are the results, then\n",
    "    # find all href (a) tags that are from the base_url website.\n",
    "    index_links = bs_object \\\n",
    "        .find(\n",
    "            \"ul\",\n",
    "            {\"data-testid\": \"results\"}\n",
    "        ) \\\n",
    "        .findAll(\n",
    "            \"a\",\n",
    "            href=re.compile(f\"{BASE_URL}/*\") # the `*` denotes wildcard any\n",
    "        )\n",
    "\n",
    "    for link in index_links:\n",
    "        # if its a property address, add it to the list\n",
    "        if 'address' in link['class']:\n",
    "            url_links.append(link['href'])\n",
    "\n",
    "\n",
    "# for each url, scrape some basic metadata\n",
    "for property_url in url_links[1:]:\n",
    "    # bs_object = BeautifulSoup(urlopen(property_url), \"lxml\")\n",
    "    bs_object = BeautifulSoup(requests.get(property_url, headers=headers).text, \"html.parser\")\n",
    "\n",
    "    # looks for the header class to get property name\n",
    "    property_metadata[property_url]['name'] = bs_object \\\n",
    "        .find(\"h1\", {\"class\": \"css-164r41r\"}) \\\n",
    "        .text\n",
    "\n",
    "    # looks for the div containing a summary title for cost\n",
    "    property_metadata[property_url]['cost_text'] = bs_object \\\n",
    "        .find(\"div\", {\"data-testid\": \"listing-details__summary-title\"}) \\\n",
    "        .text\n",
    "\n",
    "    # extract coordinates from the hyperlink provided\n",
    "    # i'll let you figure out what this does :P\n",
    "    property_metadata[property_url]['coordinates'] = [\n",
    "        float(coord) for coord in re.findall(\n",
    "            r'destination=([-\\s,\\d\\.]+)', # use regex101.com here if you need to\n",
    "            bs_object \\\n",
    "                .find(\n",
    "                    \"a\",\n",
    "                    {\"target\": \"_blank\", 'rel': \"noopener noreferer\"}\n",
    "                ) \\\n",
    "                .attrs['href']\n",
    "        )[0].split(',')\n",
    "    ]\n",
    "\n",
    "    property_metadata[property_url]['rooms'] = [\n",
    "        re.findall(r'\\d\\s[A-Za-z]+', feature.text) for feature in bs_object \\\n",
    "            .find(\"div\", {\"data-testid\": \"property-features\"}) \\\n",
    "            .findAll(\"span\", {\"data-testid\": \"property-features-text-container\"})\n",
    "    ]\n",
    "    \n",
    "    information = bs_object.find(\"div\", {\"data-testid\": \"strip-content-list\"})\n",
    "    if information :\n",
    "        property_metadata[property_url]['external_information'] = information.text\n",
    "    else: \n",
    "        property_metadata[property_url]['external_information'] = None\n",
    "\n",
    "    property_metadata[property_url]['desc'] = re \\\n",
    "        .sub(r'<br\\/>', '\\n', str(bs_object.find(\"p\"))) \\\n",
    "        .strip('</p>')\n",
    "\n",
    "# output to example json in data/raw/\n",
    "with open('../data/raw/example.json', 'w') as f:\n",
    "    dump(property_metadata, f)"
   ]
  },
  {
   "cell_type": "code",
   "execution_count": null,
   "metadata": {},
   "outputs": [],
   "source": [
    "import json\n",
    "import pandas as pd\n",
    "  \n",
    "# Opening JSON file\n",
    "f = open('../data/raw/example.json')\n",
    "  \n",
    "# returns JSON object as \n",
    "# a dictionary\n",
    "data = json.load(f)\n",
    "df2 = pd.DataFrame.from_dict(data, orient=\"index\")"
   ]
  },
  {
   "cell_type": "code",
   "execution_count": null,
   "metadata": {},
   "outputs": [],
   "source": [
    "l = []\n",
    "for i in range(len(df2)):\n",
    "    if(len(df2['rooms'][i]) != 0):\n",
    "        l.append(True)\n",
    "    else:\n",
    "        l.append(False)\n",
    "df3 = df2[l]"
   ]
  },
  {
   "cell_type": "code",
   "execution_count": null,
   "metadata": {},
   "outputs": [],
   "source": [
    "df3 = df3.reset_index()\n",
    "df3.rename(columns={'index':'link'}, inplace = True)"
   ]
  },
  {
   "cell_type": "code",
   "execution_count": null,
   "metadata": {},
   "outputs": [],
   "source": [
    "import re\n",
    "bedroom_list = []\n",
    "bathroom_list = []\n",
    "parking_list = []\n",
    "for i in range(len(df3)):\n",
    "    bedroom_list.append(re.search('\\d+', df3['rooms'][i][0][0]).group())\n",
    "    bathroom_list.append(re.search('\\d+', df3['rooms'][i][1][0]).group())\n",
    "    if(len(df3['rooms'][i][2])!= 0):\n",
    "        parking_list.append(re.search('\\d+', df3['rooms'][i][2][0]).group())\n",
    "    else:\n",
    "        parking_list.append('0')\n",
    "    # df3['bathroom'][i] = re.search('\\d+', df3['rooms'][i][1][0]).group()\n",
    "    # df3['parking'][i] = re.search('\\d+', df3['rooms'][i][2][0]).group()"
   ]
  },
  {
   "cell_type": "code",
   "execution_count": null,
   "metadata": {},
   "outputs": [],
   "source": [
    "df3['bedroom'] = bedroom_list\n",
    "df3['bathroom'] = bathroom_list\n",
    "df3['parking'] = parking_list"
   ]
  },
  {
   "cell_type": "code",
   "execution_count": null,
   "metadata": {},
   "outputs": [],
   "source": [
    "df3"
   ]
  },
  {
   "cell_type": "code",
   "execution_count": null,
   "metadata": {},
   "outputs": [],
   "source": [
    "def amount(text):\n",
    "    amount = re.findall(r'\\d+,?.\\d+.?\\d+',text)\n",
    "    if len(amount) == 0:\n",
    "        return None\n",
    "    elif len(amount) == 1:       \n",
    "        rent = float(amount[0].replace(',',''))\n",
    "    else:\n",
    "        sum = 0\n",
    "        for num in amount:\n",
    "            num = float(num.replace(',',''))\n",
    "            sum += num\n",
    "        rent = sum/len(amount)\n",
    "    if('Annually' in text):\n",
    "        weekly_rent = rent/52\n",
    "    else:\n",
    "        weekly_rent = rent\n",
    "    return weekly_rent\n",
    "        \n",
    "        \n"
   ]
  },
  {
   "cell_type": "code",
   "execution_count": null,
   "metadata": {},
   "outputs": [],
   "source": [
    "df3['weekly_rent'] = df3['cost_text'].apply(amount)"
   ]
  },
  {
   "cell_type": "code",
   "execution_count": null,
   "metadata": {},
   "outputs": [],
   "source": [
    "def postcode(text):\n",
    "    postcode = re.findall(r'VIC \\d+',text)\n",
    "    if(len(postcode) == 0):\n",
    "        return None\n",
    "    else:\n",
    "        return postcode[0].split(' ')[1]\n",
    "   "
   ]
  },
  {
   "cell_type": "code",
   "execution_count": null,
   "metadata": {},
   "outputs": [],
   "source": [
    "df3['postcode'] = df3['name'].apply(postcode)"
   ]
  },
  {
   "cell_type": "code",
   "execution_count": null,
   "metadata": {},
   "outputs": [
    {
     "data": {
      "text/plain": [
       "0      Date Available: Available NowInternal area 337m²\n",
       "1              Date Available: Available NowBond $36000\n",
       "2     Available from Friday, 23rd December 2022Bond ...\n",
       "3     Available from Tuesday, 1st November 2022Bond ...\n",
       "4              Date Available: Available NowBond $27000\n",
       "                            ...                        \n",
       "93              Date Available: Available NowBond $7821\n",
       "94              Date Available: Available NowBond $7817\n",
       "95              Date Available: Available NowBond $7604\n",
       "96              Date Available: Available NowBond $7584\n",
       "97              Date Available: Available NowBond $9354\n",
       "Name: external_information, Length: 98, dtype: object"
      ]
     },
     "execution_count": 52,
     "metadata": {},
     "output_type": "execute_result"
    }
   ],
   "source": [
    "df3['external_information']"
   ]
  },
  {
   "cell_type": "code",
   "execution_count": null,
   "metadata": {},
   "outputs": [],
   "source": [
    "def bond(text):\n",
    "    if(text is None):\n",
    "        return None\n",
    "    if('Bond' in text):\n",
    "        amount = re.findall(r'Bond \\$\\d+,?.\\d+.?\\d+',text)\n",
    "        if (len(amount) == 1):\n",
    "            amount = float(amount[0].split(' ')[1][1:])\n",
    "            return amount\n",
    "        else:\n",
    "            print(\"amount\")\n",
    "            return amount\n",
    "   \n",
    "    else:\n",
    "        return None\n"
   ]
  },
  {
   "cell_type": "code",
   "execution_count": null,
   "metadata": {},
   "outputs": [],
   "source": [
    "df3['bond'] = df3['external_information'].apply(bond)\n"
   ]
  }
 ],
 "metadata": {
  "kernelspec": {
   "display_name": "Python 3.9.7 ('base')",
   "language": "python",
   "name": "python3"
  },
  "language_info": {
   "codemirror_mode": {
    "name": "ipython",
    "version": 3
   },
   "file_extension": ".py",
   "mimetype": "text/x-python",
   "name": "python",
   "nbconvert_exporter": "python",
   "pygments_lexer": "ipython3",
   "version": "3.9.7"
  },
  "orig_nbformat": 4,
  "vscode": {
   "interpreter": {
    "hash": "d1e7dfa373d7903744c503ef55fd7294a1d9938d2fabb734498f49571dc8aad8"
   }
  }
 },
 "nbformat": 4,
 "nbformat_minor": 2
}
